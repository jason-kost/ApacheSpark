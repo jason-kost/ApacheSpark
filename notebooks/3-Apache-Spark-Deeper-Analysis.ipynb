{
 "cells": [
  {
   "cell_type": "markdown",
   "id": "d5997ffb-29ef-4ac0-a299-16814b6adc25",
   "metadata": {},
   "source": [
    "# Apache Spark: Deeper Analysis"
   ]
  },
  {
   "cell_type": "markdown",
   "id": "151cdf24-5f71-4559-a926-f3eb0dd55d41",
   "metadata": {},
   "source": [
    "## Introduction\n",
    "\n",
    "In this notebook I will perform a deeper analysis of the data in the San Francisco Taxi Trip data set. I will concentrate on trip times, distances, and fares."
   ]
  },
  {
   "cell_type": "markdown",
   "id": "c7bbbcc3-b2d9-4320-896d-47eeb7d6917e",
   "metadata": {},
   "source": [
    "## Setup"
   ]
  },
  {
   "cell_type": "code",
   "execution_count": 1,
   "id": "841f6e51-b9c7-4823-878b-a4358989a02b",
   "metadata": {},
   "outputs": [],
   "source": [
    "from pyspark.sql import SparkSession\n",
    "from pyspark.sql import functions as F\n",
    "from pyspark.sql import types as T\n",
    "from pyspark.sql.functions import row_number\n",
    "\n",
    "import matplotlib.pyplot as plt\n",
    "%matplotlib inline\n",
    "\n",
    "spark = (SparkSession\n",
    "    .builder\n",
    "    .appName('test')\n",
    "    .getOrCreate())\n",
    "\n",
    "# The following sets up the ability to output a nicely formatted table.\n",
    "spark.conf.set(\"spark.sql.repl.eagerEval.enabled\", True)\n",
    "spark.conf.set(\"spark.sql.repl.eagerEval.maxNumRows\", 100)"
   ]
  },
  {
   "cell_type": "markdown",
   "id": "7119b579-5e66-453f-b415-bedc0710bec7",
   "metadata": {},
   "source": [
    "## Load the Data\n",
    "\n",
    "The following cell reads a Parquet file into a Spark DataFrame and then prints out the schema of the DataFrame. This notebook uses the clean version of the parquet file that was created in the Initial Analysis notebook."
   ]
  },
  {
   "cell_type": "code",
   "execution_count": 2,
   "id": "a4f27935-897f-44bf-a974-44e724cfc306",
   "metadata": {},
   "outputs": [
    {
     "name": "stdout",
     "output_type": "stream",
     "text": [
      "root\n",
      " |-- vehicle_placard_number: string (nullable = true)\n",
      " |-- driver_id: string (nullable = true)\n",
      " |-- start_time_local: timestamp (nullable = true)\n",
      " |-- end_time_local: timestamp (nullable = true)\n",
      " |-- pickup_location_latitude: double (nullable = true)\n",
      " |-- pickup_location_longitude: double (nullable = true)\n",
      " |-- pickup_location: string (nullable = true)\n",
      " |-- dropoff_location_latitude: double (nullable = true)\n",
      " |-- dropoff_location_longitude: double (nullable = true)\n",
      " |-- dropoff_location: string (nullable = true)\n",
      " |-- hail_type: string (nullable = true)\n",
      " |-- paratransit: integer (nullable = true)\n",
      " |-- sfo_pickup: integer (nullable = true)\n",
      " |-- qa_flags: string (nullable = true)\n",
      " |-- fare_type: string (nullable = true)\n",
      " |-- meter_fare_amount: double (nullable = true)\n",
      " |-- upfront_pricing: double (nullable = true)\n",
      " |-- promo_rate: double (nullable = true)\n",
      " |-- tolls: double (nullable = true)\n",
      " |-- sf_exit_fee: double (nullable = true)\n",
      " |-- other_fees: double (nullable = true)\n",
      " |-- tip: double (nullable = true)\n",
      " |-- extra_amount: double (nullable = true)\n",
      " |-- total_fare_amount: double (nullable = true)\n",
      " |-- fare_time_milliseconds: integer (nullable = true)\n",
      " |-- trip_distance_meters: double (nullable = true)\n",
      " |-- data_as_of: timestamp (nullable = true)\n",
      " |-- data_loaded_at: timestamp (nullable = true)\n",
      "\n"
     ]
    }
   ],
   "source": [
    "df = spark.read.parquet('/home/jovyan/work/Taxi_Trips_SF_20250621_clean.parquet')\n",
    "\n",
    "df.printSchema()"
   ]
  },
  {
   "cell_type": "markdown",
   "id": "471bba26-3f8f-4fe3-8563-b8e3c1ab8504",
   "metadata": {},
   "source": [
    "## Create a DataFrame with only the columns that will be used\n",
    "\n",
    "Since there are a limited number of columns that will be used in the analysis let's create a DataFrame that only contains those columns and do any transformations to the data up front, so we won't have to do it every time."
   ]
  },
  {
   "cell_type": "code",
   "execution_count": 3,
   "id": "8c9d221b-a955-4418-997d-02eb10c05ec5",
   "metadata": {},
   "outputs": [
    {
     "name": "stdout",
     "output_type": "stream",
     "text": [
      "root\n",
      " |-- month: date (nullable = true)\n",
      " |-- total_fare_amount: double (nullable = true)\n",
      " |-- fare_time_milliseconds: integer (nullable = true)\n",
      " |-- fare_time_minutes: double (nullable = true)\n",
      " |-- trip_distance_meters: double (nullable = true)\n",
      " |-- trip_distance_miles: double (nullable = true)\n",
      " |-- sfo_pickup: integer (nullable = true)\n",
      " |-- driver_id: string (nullable = true)\n",
      " |-- vehicle_placard_number: string (nullable = true)\n",
      "\n"
     ]
    }
   ],
   "source": [
    "miles_divisor: float = 1609.344\n",
    "\n",
    "df.createOrReplaceTempView('rides')\n",
    "\n",
    "# Note: there are trips with negative fare times. Excluding those.\n",
    "dfs = spark.sql(f\"\"\"\n",
    "select   trunc(to_timestamp(start_time_local, 'y/M/d h:m:s a'), 'month') month\n",
    "         ,total_fare_amount\n",
    "         ,fare_time_milliseconds\n",
    "         ,fare_time_milliseconds / 1000 / 60 as fare_time_minutes\n",
    "         ,trip_distance_meters\n",
    "         ,trip_distance_meters / {miles_divisor} as trip_distance_miles\n",
    "         ,sfo_pickup\n",
    "         ,driver_id\n",
    "         ,vehicle_placard_number\n",
    "from     rides\n",
    "where    fare_time_milliseconds >= 0 -- and (fare_time_milliseconds / 1000 / 60) < 240;\n",
    "\"\"\")\n",
    "\n",
    "# Now let's cache the data\n",
    "\n",
    "dfs.cache()\n",
    "\n",
    "dfs.printSchema()"
   ]
  },
  {
   "cell_type": "markdown",
   "id": "ca7bf9ad-c3fe-42e3-bf14-b369a0ad8f6f",
   "metadata": {},
   "source": [
    "## Create a Temp View on the DataFrame\n",
    "\n",
    "The createOrReplaceTempView() method to create a view on the DataFrame that can be used in SparkSQL to refer to the DataFrame."
   ]
  },
  {
   "cell_type": "code",
   "execution_count": 4,
   "id": "0c2762b3-23bb-4f74-90e7-b20e75ac3279",
   "metadata": {},
   "outputs": [],
   "source": [
    "dfs.createOrReplaceTempView('rides')"
   ]
  },
  {
   "cell_type": "code",
   "execution_count": 5,
   "id": "36d50700-5351-4720-8527-36c7e72b38f0",
   "metadata": {},
   "outputs": [
    {
     "data": {
      "text/html": [
       "<table border='1'>\n",
       "<tr><th>count</th></tr>\n",
       "<tr><td>4128965</td></tr>\n",
       "</table>\n"
      ],
      "text/plain": [
       "+-------+\n",
       "|  count|\n",
       "+-------+\n",
       "|4128965|\n",
       "+-------+"
      ]
     },
     "execution_count": 5,
     "metadata": {},
     "output_type": "execute_result"
    }
   ],
   "source": [
    "spark.sql(\"\"\"\n",
    "select    count(1) as count\n",
    "from      rides;\n",
    "\"\"\").limit(10) # The limit will cause this to print out nicely formatted."
   ]
  },
  {
   "cell_type": "markdown",
   "id": "62fc7e0f-d781-40f7-827f-1a8670f13c79",
   "metadata": {},
   "source": [
    "## Fare Amount\n",
    "\n",
    "Let's calculate the mininimum, median, ave#rage. and a maximum fare amount for the dataset and then by month."
   ]
  },
  {
   "cell_type": "code",
   "execution_count": 6,
   "id": "0e13e7c3-e95c-44c5-95da-7a70acae2717",
   "metadata": {},
   "outputs": [
    {
     "data": {
      "text/html": [
       "<table border='1'>\n",
       "<tr><th>min_amount</th><th>median_amount</th><th>avg_amount</th><th>max_amount</th></tr>\n",
       "<tr><td>0.0</td><td>17.15</td><td>29.16</td><td>55552.25</td></tr>\n",
       "</table>\n"
      ],
      "text/plain": [
       "+----------+-------------+----------+----------+\n",
       "|min_amount|median_amount|avg_amount|max_amount|\n",
       "+----------+-------------+----------+----------+\n",
       "|       0.0|        17.15|     29.16|  55552.25|\n",
       "+----------+-------------+----------+----------+"
      ]
     },
     "execution_count": 6,
     "metadata": {},
     "output_type": "execute_result"
    }
   ],
   "source": [
    "df1 = spark.sql( \"\"\"\n",
    "select min(total_fare_amount) as min_amount\n",
    "       ,median(total_fare_amount) as median_amount\n",
    "       ,round(avg(total_fare_amount), 2) as avg_amount\n",
    "       ,max(total_fare_amount) as max_amount\n",
    "from   rides;\n",
    "\"\"\")\n",
    "\n",
    "df1.limit(10)"
   ]
  },
  {
   "cell_type": "code",
   "execution_count": 7,
   "id": "0fe3ab0d-3a77-4c95-b8de-494bf560afb8",
   "metadata": {},
   "outputs": [
    {
     "data": {
      "text/html": [
       "<table border='1'>\n",
       "<tr><th>month</th><th>min_amount</th><th>median_amount</th><th>avg_amount</th><th>max_amount</th></tr>\n",
       "<tr><td>2022-12-01</td><td>0.0</td><td>17.15</td><td>29.6</td><td>1131.25</td></tr>\n",
       "<tr><td>2023-01-01</td><td>0.0</td><td>17.8</td><td>31.19</td><td>3989.15</td></tr>\n",
       "<tr><td>2023-02-01</td><td>0.0</td><td>17.15</td><td>30.27</td><td>55552.25</td></tr>\n",
       "<tr><td>2023-03-01</td><td>0.0</td><td>17.8</td><td>30.79</td><td>4013.9</td></tr>\n",
       "<tr><td>2023-04-01</td><td>0.0</td><td>17.8</td><td>30.0</td><td>1605.75</td></tr>\n",
       "<tr><td>2023-05-01</td><td>0.0</td><td>17.8</td><td>30.34</td><td>1224.2</td></tr>\n",
       "<tr><td>2023-06-01</td><td>0.0</td><td>17.5</td><td>30.22</td><td>2419.55</td></tr>\n",
       "<tr><td>2023-07-01</td><td>0.0</td><td>17.8</td><td>30.51</td><td>1176.1</td></tr>\n",
       "<tr><td>2023-08-01</td><td>0.0</td><td>17.15</td><td>29.93</td><td>2507.3</td></tr>\n",
       "<tr><td>2023-09-01</td><td>0.0</td><td>17.81</td><td>30.73</td><td>1395.15</td></tr>\n",
       "</table>\n"
      ],
      "text/plain": [
       "+----------+----------+-------------+----------+----------+\n",
       "|     month|min_amount|median_amount|avg_amount|max_amount|\n",
       "+----------+----------+-------------+----------+----------+\n",
       "|2022-12-01|       0.0|        17.15|      29.6|   1131.25|\n",
       "|2023-01-01|       0.0|         17.8|     31.19|   3989.15|\n",
       "|2023-02-01|       0.0|        17.15|     30.27|  55552.25|\n",
       "|2023-03-01|       0.0|         17.8|     30.79|    4013.9|\n",
       "|2023-04-01|       0.0|         17.8|      30.0|   1605.75|\n",
       "|2023-05-01|       0.0|         17.8|     30.34|    1224.2|\n",
       "|2023-06-01|       0.0|         17.5|     30.22|   2419.55|\n",
       "|2023-07-01|       0.0|         17.8|     30.51|    1176.1|\n",
       "|2023-08-01|       0.0|        17.15|     29.93|    2507.3|\n",
       "|2023-09-01|       0.0|        17.81|     30.73|   1395.15|\n",
       "+----------+----------+-------------+----------+----------+"
      ]
     },
     "execution_count": 7,
     "metadata": {},
     "output_type": "execute_result"
    }
   ],
   "source": [
    "df2 = spark.sql( \"\"\"\n",
    "select   month\n",
    "         ,min(total_fare_amount) as min_amount\n",
    "         ,median(total_fare_amount) as median_amount\n",
    "         ,round(avg(total_fare_amount), 2) as avg_amount\n",
    "         ,max(total_fare_amount) as max_amount\n",
    "from     rides\n",
    "group by month\n",
    "order by month;\n",
    "\"\"\")\n",
    "\n",
    "df2.limit(10)"
   ]
  },
  {
   "cell_type": "markdown",
   "id": "f34cb699-8676-40db-b088-63e087d6d52e",
   "metadata": {},
   "source": [
    "### Note:\n",
    "\n",
    "It seems that people in San Francisco take some really expensive cab rides. In reality, I think this is probably test data."
   ]
  },
  {
   "cell_type": "markdown",
   "id": "c1987635-6579-4157-b01f-b6d126e6a923",
   "metadata": {},
   "source": [
    "## Fare Distance\n",
    "\n",
    "Now let's due the same thing, but with the distance. The distance is in meters, so first we will look at it in meters, then we will convert it to miles."
   ]
  },
  {
   "cell_type": "code",
   "execution_count": 8,
   "id": "2c52ee3a-46af-4bc4-b778-89594859e1ed",
   "metadata": {},
   "outputs": [
    {
     "data": {
      "text/html": [
       "<table border='1'>\n",
       "<tr><th>min_distance</th><th>median_distance</th><th>avg_distance</th><th>max_distance</th></tr>\n",
       "<tr><td>0.0</td><td>4184.29</td><td>9728.99</td><td>1165486.9</td></tr>\n",
       "</table>\n"
      ],
      "text/plain": [
       "+------------+---------------+------------+------------+\n",
       "|min_distance|median_distance|avg_distance|max_distance|\n",
       "+------------+---------------+------------+------------+\n",
       "|         0.0|        4184.29|     9728.99|   1165486.9|\n",
       "+------------+---------------+------------+------------+"
      ]
     },
     "execution_count": 8,
     "metadata": {},
     "output_type": "execute_result"
    }
   ],
   "source": [
    "df3 = spark.sql( \"\"\"\n",
    "select min(trip_distance_meters) as min_distance\n",
    "       ,round(median(trip_distance_meters), 2) as median_distance\n",
    "       ,round(avg(trip_distance_meters), 2) as avg_distance\n",
    "       ,max(trip_distance_meters) as max_distance\n",
    "from   rides;\n",
    "\"\"\")\n",
    "\n",
    "df3.limit(10)"
   ]
  },
  {
   "cell_type": "code",
   "execution_count": 9,
   "id": "3afe0920-ad35-44a9-8c93-c2ebdb1fda2e",
   "metadata": {},
   "outputs": [
    {
     "data": {
      "text/html": [
       "<table border='1'>\n",
       "<tr><th>month</th><th>min_distance</th><th>median_distance</th><th>avg_distance</th><th>max_distance</th></tr>\n",
       "<tr><td>2022-12-01</td><td>0.0</td><td>4184.3</td><td>9903.68</td><td>429694.8</td></tr>\n",
       "<tr><td>2023-01-01</td><td>0.0</td><td>4506.16</td><td>10593.73</td><td>440316.5</td></tr>\n",
       "<tr><td>2023-02-01</td><td>0.0</td><td>4184.3</td><td>10149.07</td><td>829777.8</td></tr>\n",
       "<tr><td>2023-03-01</td><td>0.0</td><td>4506.2</td><td>10465.37</td><td>1058626.5</td></tr>\n",
       "<tr><td>2023-04-01</td><td>0.0</td><td>4521.29</td><td>10249.52</td><td>554258.1</td></tr>\n",
       "<tr><td>2023-05-01</td><td>0.0</td><td>4553.47</td><td>10401.23</td><td>598676.0</td></tr>\n",
       "<tr><td>2023-06-01</td><td>0.0</td><td>4506.2</td><td>10331.97</td><td>1165486.9</td></tr>\n",
       "<tr><td>2023-07-01</td><td>0.0</td><td>4506.2</td><td>10436.29</td><td>566811.0</td></tr>\n",
       "<tr><td>2023-08-01</td><td>0.0</td><td>4345.2</td><td>10123.31</td><td>726296.9</td></tr>\n",
       "<tr><td>2023-09-01</td><td>0.0</td><td>4506.2</td><td>10449.71</td><td>652267.1</td></tr>\n",
       "</table>\n"
      ],
      "text/plain": [
       "+----------+------------+---------------+------------+------------+\n",
       "|     month|min_distance|median_distance|avg_distance|max_distance|\n",
       "+----------+------------+---------------+------------+------------+\n",
       "|2022-12-01|         0.0|         4184.3|     9903.68|    429694.8|\n",
       "|2023-01-01|         0.0|        4506.16|    10593.73|    440316.5|\n",
       "|2023-02-01|         0.0|         4184.3|    10149.07|    829777.8|\n",
       "|2023-03-01|         0.0|         4506.2|    10465.37|   1058626.5|\n",
       "|2023-04-01|         0.0|        4521.29|    10249.52|    554258.1|\n",
       "|2023-05-01|         0.0|        4553.47|    10401.23|    598676.0|\n",
       "|2023-06-01|         0.0|         4506.2|    10331.97|   1165486.9|\n",
       "|2023-07-01|         0.0|         4506.2|    10436.29|    566811.0|\n",
       "|2023-08-01|         0.0|         4345.2|    10123.31|    726296.9|\n",
       "|2023-09-01|         0.0|         4506.2|    10449.71|    652267.1|\n",
       "+----------+------------+---------------+------------+------------+"
      ]
     },
     "execution_count": 9,
     "metadata": {},
     "output_type": "execute_result"
    }
   ],
   "source": [
    "df4 = spark.sql( \"\"\"\n",
    "select month\n",
    "       ,min(trip_distance_meters) as min_distance\n",
    "       ,round(median(trip_distance_meters), 2) as median_distance\n",
    "       ,round(avg(trip_distance_meters), 2) as avg_distance\n",
    "       ,max(trip_distance_meters) as max_distance\n",
    "from   rides\n",
    "group by month\n",
    "order by month;\n",
    "\"\"\")\n",
    "\n",
    "df4.limit(10)"
   ]
  },
  {
   "cell_type": "markdown",
   "id": "b5df1c4b-d18e-4d9e-a1d0-2f967fd5a3a1",
   "metadata": {},
   "source": [
    "### Miles"
   ]
  },
  {
   "cell_type": "code",
   "execution_count": 10,
   "id": "2dcd771f-d7be-4c63-902b-16c2acac3dc2",
   "metadata": {},
   "outputs": [
    {
     "data": {
      "text/html": [
       "<table border='1'>\n",
       "<tr><th>min_distance</th><th>median_distance</th><th>avg_distance</th><th>max_distance</th></tr>\n",
       "<tr><td>0.0</td><td>2.6</td><td>6.05</td><td>724.2</td></tr>\n",
       "</table>\n"
      ],
      "text/plain": [
       "+------------+---------------+------------+------------+\n",
       "|min_distance|median_distance|avg_distance|max_distance|\n",
       "+------------+---------------+------------+------------+\n",
       "|         0.0|            2.6|        6.05|       724.2|\n",
       "+------------+---------------+------------+------------+"
      ]
     },
     "execution_count": 10,
     "metadata": {},
     "output_type": "execute_result"
    }
   ],
   "source": [
    "df5 = spark.sql(\"\"\"\n",
    "select   round(min(trip_distance_miles), 2) as min_distance\n",
    "         ,round(median(trip_distance_miles), 2) as median_distance\n",
    "         ,round(avg(trip_distance_miles), 2) as avg_distance\n",
    "         ,round(max(trip_distance_miles), 2) as max_distance\n",
    "from     rides;\n",
    "\"\"\")\n",
    "\n",
    "df5.limit(10)"
   ]
  },
  {
   "cell_type": "code",
   "execution_count": 11,
   "id": "a5f2f17a-fde6-44d2-8564-149efa26aba3",
   "metadata": {},
   "outputs": [
    {
     "data": {
      "text/html": [
       "<table border='1'>\n",
       "<tr><th>month</th><th>min_distance</th><th>median_distance</th><th>avg_distance</th><th>max_distance</th></tr>\n",
       "<tr><td>2022-12-01</td><td>0.0</td><td>2.6</td><td>6.15</td><td>267.0</td></tr>\n",
       "<tr><td>2023-01-01</td><td>0.0</td><td>2.8</td><td>6.58</td><td>273.6</td></tr>\n",
       "<tr><td>2023-02-01</td><td>0.0</td><td>2.6</td><td>6.31</td><td>515.6</td></tr>\n",
       "<tr><td>2023-03-01</td><td>0.0</td><td>2.8</td><td>6.5</td><td>657.8</td></tr>\n",
       "<tr><td>2023-04-01</td><td>0.0</td><td>2.81</td><td>6.37</td><td>344.4</td></tr>\n",
       "<tr><td>2023-05-01</td><td>0.0</td><td>2.83</td><td>6.46</td><td>372.0</td></tr>\n",
       "<tr><td>2023-06-01</td><td>0.0</td><td>2.8</td><td>6.42</td><td>724.2</td></tr>\n",
       "<tr><td>2023-07-01</td><td>0.0</td><td>2.8</td><td>6.48</td><td>352.2</td></tr>\n",
       "<tr><td>2023-08-01</td><td>0.0</td><td>2.7</td><td>6.29</td><td>451.3</td></tr>\n",
       "<tr><td>2023-09-01</td><td>0.0</td><td>2.8</td><td>6.49</td><td>405.3</td></tr>\n",
       "</table>\n"
      ],
      "text/plain": [
       "+----------+------------+---------------+------------+------------+\n",
       "|     month|min_distance|median_distance|avg_distance|max_distance|\n",
       "+----------+------------+---------------+------------+------------+\n",
       "|2022-12-01|         0.0|            2.6|        6.15|       267.0|\n",
       "|2023-01-01|         0.0|            2.8|        6.58|       273.6|\n",
       "|2023-02-01|         0.0|            2.6|        6.31|       515.6|\n",
       "|2023-03-01|         0.0|            2.8|         6.5|       657.8|\n",
       "|2023-04-01|         0.0|           2.81|        6.37|       344.4|\n",
       "|2023-05-01|         0.0|           2.83|        6.46|       372.0|\n",
       "|2023-06-01|         0.0|            2.8|        6.42|       724.2|\n",
       "|2023-07-01|         0.0|            2.8|        6.48|       352.2|\n",
       "|2023-08-01|         0.0|            2.7|        6.29|       451.3|\n",
       "|2023-09-01|         0.0|            2.8|        6.49|       405.3|\n",
       "+----------+------------+---------------+------------+------------+"
      ]
     },
     "execution_count": 11,
     "metadata": {},
     "output_type": "execute_result"
    }
   ],
   "source": [
    "df6 = spark.sql(\"\"\"\n",
    "select month\n",
    "       ,round(min(trip_distance_miles), 2) as min_distance\n",
    "       ,round(median(trip_distance_miles), 2) as median_distance\n",
    "       ,round(avg(trip_distance_miles), 2) as avg_distance\n",
    "       ,round(max(trip_distance_miles), 2) as max_distance\n",
    "from   rides\n",
    "group by month\n",
    "order by month;\n",
    "\"\"\")\n",
    "\n",
    "df6.limit(10)"
   ]
  },
  {
   "cell_type": "markdown",
   "id": "fdc38602-4c90-454f-8a15-709bca82967a",
   "metadata": {},
   "source": [
    "## Fare Time\n",
    "\n",
    "Now let's look at how long these trips took."
   ]
  },
  {
   "cell_type": "code",
   "execution_count": 12,
   "id": "a1f7df3f-bc81-4a48-b6d0-97a4660f45a4",
   "metadata": {},
   "outputs": [
    {
     "data": {
      "text/html": [
       "<table border='1'>\n",
       "<tr><th>min_time</th><th>median_time</th><th>avg_time</th><th>max_time</th></tr>\n",
       "<tr><td>0</td><td>590602.0</td><td>1261752.33</td><td>2114160592</td></tr>\n",
       "</table>\n"
      ],
      "text/plain": [
       "+--------+-----------+----------+----------+\n",
       "|min_time|median_time|  avg_time|  max_time|\n",
       "+--------+-----------+----------+----------+\n",
       "|       0|   590602.0|1261752.33|2114160592|\n",
       "+--------+-----------+----------+----------+"
      ]
     },
     "execution_count": 12,
     "metadata": {},
     "output_type": "execute_result"
    }
   ],
   "source": [
    "df7 = spark.sql(\"\"\"\n",
    "select   round(min(fare_time_milliseconds), 2) as min_time\n",
    "         ,round(median(fare_time_milliseconds), 2) as median_time\n",
    "         ,round(avg(fare_time_milliseconds), 2) as avg_time\n",
    "         ,round(max(fare_time_milliseconds), 2) as max_time\n",
    "from     rides;\n",
    "\"\"\")\n",
    "\n",
    "df7.limit(10)"
   ]
  },
  {
   "cell_type": "code",
   "execution_count": 13,
   "id": "345c09b0-042b-413d-a536-ce2438f03ea8",
   "metadata": {},
   "outputs": [
    {
     "data": {
      "text/html": [
       "<table border='1'>\n",
       "<tr><th>month</th><th>min_time</th><th>median_time</th><th>avg_time</th><th>max_time</th></tr>\n",
       "<tr><td>2022-12-01</td><td>0</td><td>633692.5</td><td>848397.11</td><td>463847665</td></tr>\n",
       "<tr><td>2023-01-01</td><td>0</td><td>676269.0</td><td>884829.87</td><td>239690898</td></tr>\n",
       "<tr><td>2023-02-01</td><td>0</td><td>651000.0</td><td>868729.69</td><td>1262603745</td></tr>\n",
       "<tr><td>2023-03-01</td><td>0</td><td>632370.0</td><td>838574.95</td><td>224172633</td></tr>\n",
       "<tr><td>2023-04-01</td><td>0</td><td>570983.0</td><td>771352.03</td><td>237565246</td></tr>\n",
       "<tr><td>2023-05-01</td><td>0</td><td>583804.0</td><td>804657.49</td><td>344215485</td></tr>\n",
       "<tr><td>2023-06-01</td><td>0</td><td>565681.0</td><td>797444.76</td><td>316862037</td></tr>\n",
       "<tr><td>2023-07-01</td><td>0</td><td>571305.0</td><td>797702.93</td><td>241084362</td></tr>\n",
       "<tr><td>2023-08-01</td><td>0</td><td>551061.0</td><td>769072.68</td><td>149564904</td></tr>\n",
       "<tr><td>2023-09-01</td><td>0</td><td>563036.0</td><td>775382.86</td><td>177106505</td></tr>\n",
       "</table>\n"
      ],
      "text/plain": [
       "+----------+--------+-----------+---------+----------+\n",
       "|     month|min_time|median_time| avg_time|  max_time|\n",
       "+----------+--------+-----------+---------+----------+\n",
       "|2022-12-01|       0|   633692.5|848397.11| 463847665|\n",
       "|2023-01-01|       0|   676269.0|884829.87| 239690898|\n",
       "|2023-02-01|       0|   651000.0|868729.69|1262603745|\n",
       "|2023-03-01|       0|   632370.0|838574.95| 224172633|\n",
       "|2023-04-01|       0|   570983.0|771352.03| 237565246|\n",
       "|2023-05-01|       0|   583804.0|804657.49| 344215485|\n",
       "|2023-06-01|       0|   565681.0|797444.76| 316862037|\n",
       "|2023-07-01|       0|   571305.0|797702.93| 241084362|\n",
       "|2023-08-01|       0|   551061.0|769072.68| 149564904|\n",
       "|2023-09-01|       0|   563036.0|775382.86| 177106505|\n",
       "+----------+--------+-----------+---------+----------+"
      ]
     },
     "execution_count": 13,
     "metadata": {},
     "output_type": "execute_result"
    }
   ],
   "source": [
    "df8 = spark.sql(\"\"\"\n",
    "select   month\n",
    "         ,round(min(fare_time_milliseconds), 2) as min_time\n",
    "         ,round(median(fare_time_milliseconds), 2) as median_time\n",
    "         ,round(avg(fare_time_milliseconds), 2) as avg_time\n",
    "         ,round(max(fare_time_milliseconds), 2) as max_time\n",
    "from     rides\n",
    "group by month\n",
    "order by month;\n",
    "\"\"\")\n",
    "\n",
    "df8.limit(10)"
   ]
  },
  {
   "cell_type": "markdown",
   "id": "f7b84c38-3805-4550-97f1-aee38ae0a1d3",
   "metadata": {},
   "source": [
    "### Minutes"
   ]
  },
  {
   "cell_type": "code",
   "execution_count": 14,
   "id": "6e22e085-dbf6-49b1-bfd0-46f33a7552c5",
   "metadata": {},
   "outputs": [
    {
     "data": {
      "text/html": [
       "<table border='1'>\n",
       "<tr><th>min_time</th><th>median_time</th><th>avg_time</th><th>max_time</th></tr>\n",
       "<tr><td>0.0</td><td>9.84</td><td>21.03</td><td>35236.01</td></tr>\n",
       "</table>\n"
      ],
      "text/plain": [
       "+--------+-----------+--------+--------+\n",
       "|min_time|median_time|avg_time|max_time|\n",
       "+--------+-----------+--------+--------+\n",
       "|     0.0|       9.84|   21.03|35236.01|\n",
       "+--------+-----------+--------+--------+"
      ]
     },
     "execution_count": 14,
     "metadata": {},
     "output_type": "execute_result"
    }
   ],
   "source": [
    "df9 = spark.sql(\"\"\"\n",
    "select   round(min(fare_time_minutes), 2) as min_time\n",
    "         ,round(median(fare_time_minutes), 2) as median_time\n",
    "         ,round(avg(fare_time_minutes), 2) as avg_time\n",
    "         ,round(max(fare_time_minutes), 2) as max_time\n",
    "from     rides;\n",
    "\"\"\")\n",
    "\n",
    "df9.limit(10)"
   ]
  },
  {
   "cell_type": "code",
   "execution_count": 15,
   "id": "a0c2aeb4-e1d7-46ab-874d-f3c47dc5db31",
   "metadata": {},
   "outputs": [
    {
     "data": {
      "text/html": [
       "<table border='1'>\n",
       "<tr><th>month</th><th>min_time</th><th>median_time</th><th>avg_time</th><th>max_time</th></tr>\n",
       "<tr><td>2022-12-01</td><td>0.0</td><td>10.56</td><td>14.14</td><td>7730.79</td></tr>\n",
       "<tr><td>2023-01-01</td><td>0.0</td><td>11.27</td><td>14.75</td><td>3994.85</td></tr>\n",
       "<tr><td>2023-02-01</td><td>0.0</td><td>10.85</td><td>14.48</td><td>21043.4</td></tr>\n",
       "<tr><td>2023-03-01</td><td>0.0</td><td>10.54</td><td>13.98</td><td>3736.21</td></tr>\n",
       "<tr><td>2023-04-01</td><td>0.0</td><td>9.52</td><td>12.86</td><td>3959.42</td></tr>\n",
       "<tr><td>2023-05-01</td><td>0.0</td><td>9.73</td><td>13.41</td><td>5736.92</td></tr>\n",
       "<tr><td>2023-06-01</td><td>0.0</td><td>9.43</td><td>13.29</td><td>5281.03</td></tr>\n",
       "<tr><td>2023-07-01</td><td>0.0</td><td>9.52</td><td>13.3</td><td>4018.07</td></tr>\n",
       "<tr><td>2023-08-01</td><td>0.0</td><td>9.18</td><td>12.82</td><td>2492.75</td></tr>\n",
       "<tr><td>2023-09-01</td><td>0.0</td><td>9.38</td><td>12.92</td><td>2951.78</td></tr>\n",
       "</table>\n"
      ],
      "text/plain": [
       "+----------+--------+-----------+--------+--------+\n",
       "|     month|min_time|median_time|avg_time|max_time|\n",
       "+----------+--------+-----------+--------+--------+\n",
       "|2022-12-01|     0.0|      10.56|   14.14| 7730.79|\n",
       "|2023-01-01|     0.0|      11.27|   14.75| 3994.85|\n",
       "|2023-02-01|     0.0|      10.85|   14.48| 21043.4|\n",
       "|2023-03-01|     0.0|      10.54|   13.98| 3736.21|\n",
       "|2023-04-01|     0.0|       9.52|   12.86| 3959.42|\n",
       "|2023-05-01|     0.0|       9.73|   13.41| 5736.92|\n",
       "|2023-06-01|     0.0|       9.43|   13.29| 5281.03|\n",
       "|2023-07-01|     0.0|       9.52|    13.3| 4018.07|\n",
       "|2023-08-01|     0.0|       9.18|   12.82| 2492.75|\n",
       "|2023-09-01|     0.0|       9.38|   12.92| 2951.78|\n",
       "+----------+--------+-----------+--------+--------+"
      ]
     },
     "execution_count": 15,
     "metadata": {},
     "output_type": "execute_result"
    }
   ],
   "source": [
    "df10 = spark.sql(\"\"\"\n",
    "select   month\n",
    "         ,round(min(fare_time_minutes), 2) as min_time\n",
    "         ,round(median(fare_time_minutes), 2) as median_time\n",
    "         ,round(avg(fare_time_minutes), 2) as avg_time\n",
    "         ,round(max(fare_time_minutes), 2) as max_time\n",
    "from     rides\n",
    "group by month\n",
    "order by month;\n",
    "\"\"\")\n",
    "\n",
    "df10.limit(10)"
   ]
  },
  {
   "cell_type": "markdown",
   "id": "932c73a4-0aa3-4d3e-a2e1-cc5b128497ca",
   "metadata": {},
   "source": [
    "## Look at those trips originating at SFO vs. those that don't"
   ]
  },
  {
   "cell_type": "code",
   "execution_count": 16,
   "id": "2bdf64d4-b9f2-46b9-a632-60cf94d9e673",
   "metadata": {},
   "outputs": [
    {
     "data": {
      "text/html": [
       "<table border='1'>\n",
       "<tr><th>sfo</th><th>nonsfo</th><th>total</th><th>sfo_percent</th><th>nonsfo_percent</th></tr>\n",
       "<tr><td>1007044</td><td>3121921</td><td>4128965</td><td>24.39</td><td>75.61</td></tr>\n",
       "</table>\n"
      ],
      "text/plain": [
       "+-------+-------+-------+-----------+--------------+\n",
       "|    sfo| nonsfo|  total|sfo_percent|nonsfo_percent|\n",
       "+-------+-------+-------+-----------+--------------+\n",
       "|1007044|3121921|4128965|      24.39|         75.61|\n",
       "+-------+-------+-------+-----------+--------------+"
      ]
     },
     "execution_count": 16,
     "metadata": {},
     "output_type": "execute_result"
    }
   ],
   "source": [
    "df12 = spark.sql(\"\"\"\n",
    "with sfo as (\n",
    "select   *\n",
    "from     rides\n",
    "where    sfo_pickup = 1\n",
    "),\n",
    "nonsfo as (\n",
    "select    *\n",
    "from      rides\n",
    "where     sfo_pickup = 0\n",
    "),\n",
    "total as (\n",
    "select   *\n",
    "from     rides\n",
    "),\n",
    "cnts as (\n",
    "select    (select count(1) from sfo) sfo\n",
    "          , (select count(1) from nonsfo) nonsfo\n",
    "          , (select count(1) from total) total\n",
    ")\n",
    "select   sfo\n",
    "         , nonsfo\n",
    "         , total\n",
    "         , round((sfo / total) * 100, 2) sfo_percent\n",
    "         , round((nonsfo / total) * 100, 2) nonsfo_percent\n",
    "from     cnts\n",
    "\"\"\")\n",
    "\n",
    "df12.limit(10)"
   ]
  },
  {
   "cell_type": "markdown",
   "id": "dcc10543-e074-4e9a-84b9-9c553f315f22",
   "metadata": {},
   "source": [
    "## Top Drivers and Top Vehicles\n",
    "\n",
    "Look at the top drivers by total trip time and total miles driven and the top vehicles by total miles driven."
   ]
  },
  {
   "cell_type": "code",
   "execution_count": 17,
   "id": "81a567cc-98dc-4901-8705-44c3925e6e87",
   "metadata": {},
   "outputs": [
    {
     "data": {
      "text/html": [
       "<table border='1'>\n",
       "<tr><th>driver_id</th><th>total_trip_time</th></tr>\n",
       "<tr><td>-</td><td>1094813.63</td></tr>\n",
       "<tr><td>F-4919</td><td>458960.04</td></tr>\n",
       "<tr><td>B-6401</td><td>458665.04</td></tr>\n",
       "<tr><td>V-9330</td><td>410371.34</td></tr>\n",
       "<tr><td>A-9919</td><td>377851.54</td></tr>\n",
       "<tr><td>F-9617</td><td>369182.91</td></tr>\n",
       "<tr><td>C-8494</td><td>363182.83</td></tr>\n",
       "<tr><td>U-7473</td><td>343043.12</td></tr>\n",
       "<tr><td>E-4134</td><td>336702.26</td></tr>\n",
       "<tr><td>E-6625</td><td>332399.3</td></tr>\n",
       "</table>\n"
      ],
      "text/plain": [
       "+---------+---------------+\n",
       "|driver_id|total_trip_time|\n",
       "+---------+---------------+\n",
       "|        -|     1094813.63|\n",
       "|   F-4919|      458960.04|\n",
       "|   B-6401|      458665.04|\n",
       "|   V-9330|      410371.34|\n",
       "|   A-9919|      377851.54|\n",
       "|   F-9617|      369182.91|\n",
       "|   C-8494|      363182.83|\n",
       "|   U-7473|      343043.12|\n",
       "|   E-4134|      336702.26|\n",
       "|   E-6625|       332399.3|\n",
       "+---------+---------------+"
      ]
     },
     "execution_count": 17,
     "metadata": {},
     "output_type": "execute_result"
    }
   ],
   "source": [
    "df16 = spark.sql(\"\"\"\n",
    "select   driver_id, round(sum(fare_time_minutes), 2) as total_trip_time\n",
    "from     rides\n",
    "group by driver_id\n",
    "order by total_trip_time desc;\n",
    "\"\"\")\n",
    "\n",
    "df16.limit(10)"
   ]
  },
  {
   "cell_type": "code",
   "execution_count": 18,
   "id": "565f62b7-65b9-4493-a762-35f04a051d5c",
   "metadata": {},
   "outputs": [
    {
     "data": {
      "text/html": [
       "<table border='1'>\n",
       "<tr><th>driver_id</th><th>trip_distance_miles</th></tr>\n",
       "<tr><td>-</td><td>458162.35</td></tr>\n",
       "<tr><td>U-7473</td><td>95415.4</td></tr>\n",
       "<tr><td>B-6401</td><td>93690.8</td></tr>\n",
       "<tr><td>C-8155</td><td>72712.8</td></tr>\n",
       "<tr><td>A-4301</td><td>71316.52</td></tr>\n",
       "<tr><td>F-9617</td><td>70985.5</td></tr>\n",
       "<tr><td>B-9981</td><td>70238.85</td></tr>\n",
       "<tr><td>F-8012</td><td>68399.6</td></tr>\n",
       "<tr><td>N-7318</td><td>65937.95</td></tr>\n",
       "<tr><td>Y-5184</td><td>65700.91</td></tr>\n",
       "</table>\n"
      ],
      "text/plain": [
       "+---------+-------------------+\n",
       "|driver_id|trip_distance_miles|\n",
       "+---------+-------------------+\n",
       "|        -|          458162.35|\n",
       "|   U-7473|            95415.4|\n",
       "|   B-6401|            93690.8|\n",
       "|   C-8155|            72712.8|\n",
       "|   A-4301|           71316.52|\n",
       "|   F-9617|            70985.5|\n",
       "|   B-9981|           70238.85|\n",
       "|   F-8012|            68399.6|\n",
       "|   N-7318|           65937.95|\n",
       "|   Y-5184|           65700.91|\n",
       "+---------+-------------------+"
      ]
     },
     "execution_count": 18,
     "metadata": {},
     "output_type": "execute_result"
    }
   ],
   "source": [
    "df17  = spark.sql(\"\"\"\n",
    "select   driver_id, round(sum(trip_distance_miles), 2) as trip_distance_miles\n",
    "from     rides\n",
    "group by driver_id\n",
    "order by trip_distance_miles desc;\n",
    "\"\"\")\n",
    "\n",
    "df17.limit(10)"
   ]
  },
  {
   "cell_type": "markdown",
   "id": "153e3d17-98bd-405e-a08b-83b66ea739b9",
   "metadata": {},
   "source": [
    "### Top N (10) Drivers by Distance by Month"
   ]
  },
  {
   "cell_type": "code",
   "execution_count": 19,
   "id": "2b8c2311-f57b-449e-b4ad-9c05b90ec35a",
   "metadata": {},
   "outputs": [
    {
     "data": {
      "text/html": [
       "<table border='1'>\n",
       "<tr><th>month</th><th>driver_id</th><th>trip_miles</th></tr>\n",
       "<tr><td>2022-12-01</td><td>-</td><td>18573.0</td></tr>\n",
       "<tr><td>2022-12-01</td><td>A-4301</td><td>5905.0</td></tr>\n",
       "<tr><td>2022-12-01</td><td>A-7414</td><td>4927.0</td></tr>\n",
       "<tr><td>2022-12-01</td><td>B-0575</td><td>4249.0</td></tr>\n",
       "<tr><td>2022-12-01</td><td>F-5183</td><td>4182.0</td></tr>\n",
       "<tr><td>2022-12-01</td><td>B-6401</td><td>3974.0</td></tr>\n",
       "<tr><td>2022-12-01</td><td>C-8155</td><td>3923.0</td></tr>\n",
       "<tr><td>2022-12-01</td><td>F-9617</td><td>3814.0</td></tr>\n",
       "<tr><td>2022-12-01</td><td>B-3671</td><td>3707.0</td></tr>\n",
       "<tr><td>2022-12-01</td><td>F-9314</td><td>3568.0</td></tr>\n",
       "<tr><td>2023-01-01</td><td>-</td><td>160085.0</td></tr>\n",
       "<tr><td>2023-01-01</td><td>F-8012</td><td>5727.0</td></tr>\n",
       "<tr><td>2023-01-01</td><td>A-4301</td><td>5267.0</td></tr>\n",
       "<tr><td>2023-01-01</td><td>V-0006</td><td>4645.0</td></tr>\n",
       "<tr><td>2023-01-01</td><td>A-7414</td><td>4167.0</td></tr>\n",
       "<tr><td>2023-01-01</td><td>B-6401</td><td>4108.0</td></tr>\n",
       "<tr><td>2023-01-01</td><td>B-0575</td><td>4081.0</td></tr>\n",
       "<tr><td>2023-01-01</td><td>C-8155</td><td>4078.0</td></tr>\n",
       "<tr><td>2023-01-01</td><td>B-9981</td><td>4075.0</td></tr>\n",
       "<tr><td>2023-01-01</td><td>D-6085</td><td>3873.0</td></tr>\n",
       "<tr><td>2023-02-01</td><td>-</td><td>86664.0</td></tr>\n",
       "<tr><td>2023-02-01</td><td>F-8012</td><td>5384.0</td></tr>\n",
       "<tr><td>2023-02-01</td><td>B-6401</td><td>4457.0</td></tr>\n",
       "<tr><td>2023-02-01</td><td>A-4523</td><td>4091.0</td></tr>\n",
       "<tr><td>2023-02-01</td><td>C-8155</td><td>4014.0</td></tr>\n",
       "<tr><td>2023-02-01</td><td>B-0575</td><td>3848.0</td></tr>\n",
       "<tr><td>2023-02-01</td><td>U-7473</td><td>3842.0</td></tr>\n",
       "<tr><td>2023-02-01</td><td>B-9981</td><td>3832.0</td></tr>\n",
       "<tr><td>2023-02-01</td><td>V-0006</td><td>3803.0</td></tr>\n",
       "<tr><td>2023-02-01</td><td>A-7414</td><td>3760.0</td></tr>\n",
       "<tr><td>2023-03-01</td><td>-</td><td>16953.0</td></tr>\n",
       "<tr><td>2023-03-01</td><td>A-4301</td><td>5971.0</td></tr>\n",
       "<tr><td>2023-03-01</td><td>U-7473</td><td>5832.0</td></tr>\n",
       "<tr><td>2023-03-01</td><td>B-6401</td><td>5474.0</td></tr>\n",
       "<tr><td>2023-03-01</td><td>F-8012</td><td>4729.0</td></tr>\n",
       "<tr><td>2023-03-01</td><td>A-7414</td><td>4603.0</td></tr>\n",
       "<tr><td>2023-03-01</td><td>B-0575</td><td>4436.0</td></tr>\n",
       "<tr><td>2023-03-01</td><td>A-4523</td><td>4418.0</td></tr>\n",
       "<tr><td>2023-03-01</td><td>C-8155</td><td>4411.0</td></tr>\n",
       "<tr><td>2023-03-01</td><td>N-7487</td><td>4162.0</td></tr>\n",
       "<tr><td>2023-04-01</td><td>-</td><td>16078.0</td></tr>\n",
       "<tr><td>2023-04-01</td><td>C-9504</td><td>8433.0</td></tr>\n",
       "<tr><td>2023-04-01</td><td>N-7318</td><td>5460.0</td></tr>\n",
       "<tr><td>2023-04-01</td><td>A-7414</td><td>5395.0</td></tr>\n",
       "<tr><td>2023-04-01</td><td>A-4301</td><td>5067.0</td></tr>\n",
       "<tr><td>2023-04-01</td><td>B-6401</td><td>5009.0</td></tr>\n",
       "<tr><td>2023-04-01</td><td>D-6085</td><td>4474.0</td></tr>\n",
       "<tr><td>2023-04-01</td><td>B-2690</td><td>4443.0</td></tr>\n",
       "<tr><td>2023-04-01</td><td>U-7473</td><td>4338.0</td></tr>\n",
       "<tr><td>2023-04-01</td><td>Y-9792</td><td>4232.0</td></tr>\n",
       "</table>\n"
      ],
      "text/plain": [
       "+----------+---------+----------+\n",
       "|     month|driver_id|trip_miles|\n",
       "+----------+---------+----------+\n",
       "|2022-12-01|        -|   18573.0|\n",
       "|2022-12-01|   A-4301|    5905.0|\n",
       "|2022-12-01|   A-7414|    4927.0|\n",
       "|2022-12-01|   B-0575|    4249.0|\n",
       "|2022-12-01|   F-5183|    4182.0|\n",
       "|2022-12-01|   B-6401|    3974.0|\n",
       "|2022-12-01|   C-8155|    3923.0|\n",
       "|2022-12-01|   F-9617|    3814.0|\n",
       "|2022-12-01|   B-3671|    3707.0|\n",
       "|2022-12-01|   F-9314|    3568.0|\n",
       "|2023-01-01|        -|  160085.0|\n",
       "|2023-01-01|   F-8012|    5727.0|\n",
       "|2023-01-01|   A-4301|    5267.0|\n",
       "|2023-01-01|   V-0006|    4645.0|\n",
       "|2023-01-01|   A-7414|    4167.0|\n",
       "|2023-01-01|   B-6401|    4108.0|\n",
       "|2023-01-01|   B-0575|    4081.0|\n",
       "|2023-01-01|   C-8155|    4078.0|\n",
       "|2023-01-01|   B-9981|    4075.0|\n",
       "|2023-01-01|   D-6085|    3873.0|\n",
       "|2023-02-01|        -|   86664.0|\n",
       "|2023-02-01|   F-8012|    5384.0|\n",
       "|2023-02-01|   B-6401|    4457.0|\n",
       "|2023-02-01|   A-4523|    4091.0|\n",
       "|2023-02-01|   C-8155|    4014.0|\n",
       "|2023-02-01|   B-0575|    3848.0|\n",
       "|2023-02-01|   U-7473|    3842.0|\n",
       "|2023-02-01|   B-9981|    3832.0|\n",
       "|2023-02-01|   V-0006|    3803.0|\n",
       "|2023-02-01|   A-7414|    3760.0|\n",
       "|2023-03-01|        -|   16953.0|\n",
       "|2023-03-01|   A-4301|    5971.0|\n",
       "|2023-03-01|   U-7473|    5832.0|\n",
       "|2023-03-01|   B-6401|    5474.0|\n",
       "|2023-03-01|   F-8012|    4729.0|\n",
       "|2023-03-01|   A-7414|    4603.0|\n",
       "|2023-03-01|   B-0575|    4436.0|\n",
       "|2023-03-01|   A-4523|    4418.0|\n",
       "|2023-03-01|   C-8155|    4411.0|\n",
       "|2023-03-01|   N-7487|    4162.0|\n",
       "|2023-04-01|        -|   16078.0|\n",
       "|2023-04-01|   C-9504|    8433.0|\n",
       "|2023-04-01|   N-7318|    5460.0|\n",
       "|2023-04-01|   A-7414|    5395.0|\n",
       "|2023-04-01|   A-4301|    5067.0|\n",
       "|2023-04-01|   B-6401|    5009.0|\n",
       "|2023-04-01|   D-6085|    4474.0|\n",
       "|2023-04-01|   B-2690|    4443.0|\n",
       "|2023-04-01|   U-7473|    4338.0|\n",
       "|2023-04-01|   Y-9792|    4232.0|\n",
       "+----------+---------+----------+"
      ]
     },
     "execution_count": 19,
     "metadata": {},
     "output_type": "execute_result"
    }
   ],
   "source": [
    "df19 = spark.sql(\"\"\"\n",
    "with x as (\n",
    "select   month, driver_id, round(sum(trip_distance_miles), 0) trip_miles\n",
    "from     rides\n",
    "group by month, driver_id\n",
    "order by month, trip_miles desc\n",
    ")\n",
    "select   month, driver_id, trip_miles\n",
    "from (select   *, row_number() over (partition by month order by trip_miles desc) rn\n",
    "from     x) tmp\n",
    "where    rn <= 10;\n",
    "\"\"\")\n",
    "\n",
    "df19.limit(50)"
   ]
  },
  {
   "cell_type": "code",
   "execution_count": 20,
   "id": "87f027a9-40ad-450f-9360-3874ae30a970",
   "metadata": {},
   "outputs": [
    {
     "data": {
      "text/html": [
       "<table border='1'>\n",
       "<tr><th>vehicle_placard_number</th><th>total_trip_time</th></tr>\n",
       "<tr><td>1273</td><td>507417.77</td></tr>\n",
       "<tr><td>1410</td><td>499777.88</td></tr>\n",
       "<tr><td>1405</td><td>497091.58</td></tr>\n",
       "<tr><td>0134</td><td>466708.3</td></tr>\n",
       "<tr><td>0732</td><td>465961.48</td></tr>\n",
       "<tr><td>1156</td><td>419821.62</td></tr>\n",
       "<tr><td>0784</td><td>419599.12</td></tr>\n",
       "<tr><td>0454</td><td>390736.21</td></tr>\n",
       "<tr><td>1376</td><td>389043.23</td></tr>\n",
       "<tr><td>0251</td><td>377331.29</td></tr>\n",
       "</table>\n"
      ],
      "text/plain": [
       "+----------------------+---------------+\n",
       "|vehicle_placard_number|total_trip_time|\n",
       "+----------------------+---------------+\n",
       "|                  1273|      507417.77|\n",
       "|                  1410|      499777.88|\n",
       "|                  1405|      497091.58|\n",
       "|                  0134|       466708.3|\n",
       "|                  0732|      465961.48|\n",
       "|                  1156|      419821.62|\n",
       "|                  0784|      419599.12|\n",
       "|                  0454|      390736.21|\n",
       "|                  1376|      389043.23|\n",
       "|                  0251|      377331.29|\n",
       "+----------------------+---------------+"
      ]
     },
     "execution_count": 20,
     "metadata": {},
     "output_type": "execute_result"
    }
   ],
   "source": [
    "df18 = spark.sql(\"\"\"\n",
    "select   vehicle_placard_number, round(sum(fare_time_minutes), 2) as total_trip_time\n",
    "from     rides\n",
    "group by vehicle_placard_number\n",
    "order by total_trip_time desc;\n",
    "\"\"\")\n",
    "\n",
    "df18.limit(10)"
   ]
  },
  {
   "cell_type": "code",
   "execution_count": 21,
   "id": "4fd81377-ca4b-4cb3-bd03-636f59df3732",
   "metadata": {},
   "outputs": [
    {
     "data": {
      "text/html": [
       "<table border='1'>\n",
       "<tr><th>vehicle_placard_number</th><th>trip_distance_miles</th></tr>\n",
       "<tr><td>0732</td><td>97178.0</td></tr>\n",
       "<tr><td>9010</td><td>93663.8</td></tr>\n",
       "<tr><td>1410</td><td>88764.1</td></tr>\n",
       "<tr><td>0134</td><td>76727.0</td></tr>\n",
       "<tr><td>1555</td><td>75354.9</td></tr>\n",
       "<tr><td>0371</td><td>74055.4</td></tr>\n",
       "<tr><td>1180</td><td>73626.4</td></tr>\n",
       "<tr><td>1420</td><td>73510.7</td></tr>\n",
       "<tr><td>1273</td><td>71949.1</td></tr>\n",
       "<tr><td>0768</td><td>70238.85</td></tr>\n",
       "</table>\n"
      ],
      "text/plain": [
       "+----------------------+-------------------+\n",
       "|vehicle_placard_number|trip_distance_miles|\n",
       "+----------------------+-------------------+\n",
       "|                  0732|            97178.0|\n",
       "|                  9010|            93663.8|\n",
       "|                  1410|            88764.1|\n",
       "|                  0134|            76727.0|\n",
       "|                  1555|            75354.9|\n",
       "|                  0371|            74055.4|\n",
       "|                  1180|            73626.4|\n",
       "|                  1420|            73510.7|\n",
       "|                  1273|            71949.1|\n",
       "|                  0768|           70238.85|\n",
       "+----------------------+-------------------+"
      ]
     },
     "execution_count": 21,
     "metadata": {},
     "output_type": "execute_result"
    }
   ],
   "source": [
    "df18 = spark.sql(\"\"\"\n",
    "select   vehicle_placard_number, round(sum(trip_distance_miles), 2) as trip_distance_miles\n",
    "from     rides\n",
    "group by vehicle_placard_number\n",
    "order by trip_distance_miles desc;\n",
    "\"\"\")\n",
    "\n",
    "df18.limit(10)"
   ]
  },
  {
   "cell_type": "markdown",
   "id": "7913509e-af3d-4aac-9e7f-9684c530e686",
   "metadata": {},
   "source": [
    "## Looking at Outliers\n",
    "\n",
    "This data set appears to have many outliers. In this section I will try to determine which are outl"
   ]
  },
  {
   "cell_type": "markdown",
   "id": "0e602740-5b1f-4620-8f1e-9be1dbe915b6",
   "metadata": {},
   "source": [
    "### Excessively Long Rides\n",
    "\n",
    "First, let's look at a sample of records for excessively long rides, which I am defining as those rides that take more than 240 minutes (4 hours)."
   ]
  },
  {
   "cell_type": "code",
   "execution_count": 22,
   "id": "49d73429-1a9d-4c47-a29e-e0e6b46a6346",
   "metadata": {},
   "outputs": [
    {
     "data": {
      "text/html": [
       "<table border='1'>\n",
       "<tr><th>month</th><th>total_fare_amount</th><th>fare_time_milliseconds</th><th>fare_time_minutes</th><th>trip_distance_meters</th><th>trip_distance_miles</th><th>sfo_pickup</th><th>driver_id</th><th>vehicle_placard_number</th></tr>\n",
       "<tr><td>2024-02-01</td><td>117.55</td><td>2114160592</td><td>35236.00986666667</td><td>53269.0</td><td>33.099822039290544</td><td>1</td><td>D-6085</td><td>2166</td></tr>\n",
       "<tr><td>2023-10-01</td><td>0.0</td><td>1545819105</td><td>25763.65175</td><td>20116.8</td><td>12.5</td><td>0</td><td>F-7292</td><td>9036</td></tr>\n",
       "<tr><td>2023-02-01</td><td>48.2</td><td>1262603745</td><td>21043.395750000003</td><td>14806.0</td><td>9.200021872265966</td><td>0</td><td>C-5989</td><td>1130</td></tr>\n",
       "<tr><td>2022-12-01</td><td>0.0</td><td>463847665</td><td>7730.794416666667</td><td>0.0</td><td>0.0</td><td>0</td><td>A-8439</td><td>0111</td></tr>\n",
       "<tr><td>2024-05-01</td><td>0.0</td><td>364013371</td><td>6066.889516666666</td><td>3862.4</td><td>2.3999840928974785</td><td>0</td><td>F-7292</td><td>9036</td></tr>\n",
       "<tr><td>2023-10-01</td><td>0.0</td><td>348253216</td><td>5804.220266666667</td><td>0.0</td><td>0.0</td><td>0</td><td>F-0546</td><td>0950</td></tr>\n",
       "<tr><td>2023-05-01</td><td>4.15</td><td>344215485</td><td>5736.92475</td><td>0.0</td><td>0.0</td><td>0</td><td>A-4916</td><td>0017</td></tr>\n",
       "<tr><td>2024-05-01</td><td>0.0</td><td>338813371</td><td>5646.889516666666</td><td>0.0</td><td>0.0</td><td>0</td><td>F-7292</td><td>9036</td></tr>\n",
       "<tr><td>2023-06-01</td><td>0.0</td><td>316862037</td><td>5281.03395</td><td>0.0</td><td>0.0</td><td>0</td><td>F-0707</td><td>0451</td></tr>\n",
       "<tr><td>2023-11-01</td><td>0.0</td><td>311217002</td><td>5186.950033333333</td><td>0.0</td><td>0.0</td><td>0</td><td>A-4523</td><td>1273</td></tr>\n",
       "<tr><td>2024-05-01</td><td>349.3</td><td>287434174</td><td>4790.569566666667</td><td>113619.7</td><td>70.6000084506482</td><td>0</td><td>F-7292</td><td>9036</td></tr>\n",
       "<tr><td>2023-06-01</td><td>0.0</td><td>286917708</td><td>4781.9618</td><td>0.0</td><td>0.0</td><td>0</td><td>A-6577</td><td>0031</td></tr>\n",
       "<tr><td>2024-02-01</td><td>222.55</td><td>275354926</td><td>4589.248766666667</td><td>94951.3</td><td>59.00000248548477</td><td>0</td><td>F-7292</td><td>9036</td></tr>\n",
       "<tr><td>2024-02-01</td><td>222.55</td><td>275354926</td><td>4589.248766666667</td><td>94951.29600000002</td><td>59.00000000000001</td><td>0</td><td>F-7292</td><td>9036</td></tr>\n",
       "<tr><td>2023-02-01</td><td>19.5</td><td>267728192</td><td>4462.136533333333</td><td>0.0</td><td>0.0</td><td>0</td><td>C-0178</td><td>0101</td></tr>\n",
       "<tr><td>2024-05-01</td><td>349.3</td><td>262234174</td><td>4370.569566666667</td><td>113619.68639999999</td><td>70.6</td><td>0</td><td>F-7292</td><td>9036</td></tr>\n",
       "<tr><td>2023-12-01</td><td>0.0</td><td>258855892</td><td>4314.264866666666</td><td>74029.8</td><td>45.99998508709139</td><td>0</td><td>B-4787</td><td>9042</td></tr>\n",
       "<tr><td>2023-06-01</td><td>76.95</td><td>255332934</td><td>4255.5489</td><td>32347.8</td><td>20.09999105225483</td><td>0</td><td>B-3966</td><td>9032</td></tr>\n",
       "<tr><td>2023-07-01</td><td>156.9</td><td>241084362</td><td>4018.0726999999997</td><td>66626.8</td><td>41.39997415095841</td><td>0</td><td>F-7292</td><td>9036</td></tr>\n",
       "<tr><td>2023-01-01</td><td>0.0</td><td>239690898</td><td>3994.8482999999997</td><td>0.0</td><td>0.0</td><td>0</td><td>-</td><td>2711</td></tr>\n",
       "<tr><td>2023-04-01</td><td>0.0</td><td>237565246</td><td>3959.420766666667</td><td>0.0</td><td>0.0</td><td>0</td><td>F-7292</td><td>9036</td></tr>\n",
       "<tr><td>2023-05-01</td><td>0.0</td><td>237515650</td><td>3958.5941666666668</td><td>321.9</td><td>0.2000193867811978</td><td>0</td><td>D-4091</td><td>9000</td></tr>\n",
       "<tr><td>2023-10-01</td><td>2551.5</td><td>235212711</td><td>3920.21185</td><td>0.0</td><td>0.0</td><td>0</td><td>A-4968</td><td>0001</td></tr>\n",
       "<tr><td>2023-01-01</td><td>0.0</td><td>234908572</td><td>3915.1428666666666</td><td>0.0</td><td>0.0</td><td>0</td><td>N-1142</td><td>0167</td></tr>\n",
       "<tr><td>2024-01-01</td><td>4.15</td><td>234687090</td><td>3911.4515</td><td>0.0</td><td>0.0</td><td>0</td><td>B-4787</td><td>9042</td></tr>\n",
       "<tr><td>2023-12-01</td><td>40.2</td><td>233601296</td><td>3893.3549333333335</td><td>15128.0</td><td>9.400103396166388</td><td>1</td><td>D-6085</td><td>2166</td></tr>\n",
       "<tr><td>2023-10-01</td><td>0.0</td><td>232427413</td><td>3873.7902166666668</td><td>0.0</td><td>0.0</td><td>1</td><td>A-9917</td><td>1054</td></tr>\n",
       "<tr><td>2023-07-01</td><td>78.9</td><td>232087428</td><td>3868.1238000000003</td><td>21726.1</td><td>13.49997265966754</td><td>0</td><td>D-6027</td><td>9015</td></tr>\n",
       "<tr><td>2024-01-01</td><td>11.95</td><td>226882075</td><td>3781.367916666667</td><td>3862.4</td><td>2.3999840928974785</td><td>0</td><td>N-2670</td><td>9027</td></tr>\n",
       "<tr><td>2023-06-01</td><td>5.45</td><td>226156798</td><td>3769.279966666667</td><td>0.0</td><td>0.0</td><td>0</td><td>N-2670</td><td>9027</td></tr>\n",
       "<tr><td>2023-12-01</td><td>0.0</td><td>225923845</td><td>3765.3974166666667</td><td>0.0</td><td>0.0</td><td>1</td><td>A-9917</td><td>1054</td></tr>\n",
       "<tr><td>2023-03-01</td><td>0.0</td><td>224172633</td><td>3736.2105500000002</td><td>0.0</td><td>0.0</td><td>0</td><td>N-5672</td><td>1209</td></tr>\n",
       "<tr><td>2022-12-01</td><td>0.0</td><td>217854860</td><td>3630.914333333333</td><td>0.0</td><td>0.0</td><td>0</td><td>C-9199</td><td>0981</td></tr>\n",
       "<tr><td>2023-04-01</td><td>4.15</td><td>217748959</td><td>3629.149316666667</td><td>0.0</td><td>0.0</td><td>0</td><td>D-4546</td><td>1350</td></tr>\n",
       "<tr><td>2023-01-01</td><td>0.0</td><td>209450305</td><td>3490.8384166666665</td><td>0.0</td><td>0.0</td><td>0</td><td>Y-1508</td><td>1152</td></tr>\n",
       "<tr><td>2023-03-01</td><td>0.0</td><td>208304816</td><td>3471.7469333333333</td><td>0.0</td><td>0.0</td><td>0</td><td>E-3622</td><td>0036</td></tr>\n",
       "<tr><td>2024-03-01</td><td>0.0</td><td>207561535</td><td>3459.3589166666666</td><td>0.0</td><td>0.0</td><td>0</td><td>A-1889</td><td>0448</td></tr>\n",
       "<tr><td>2024-03-01</td><td>0.0</td><td>207561535</td><td>3459.3589166666666</td><td>0.0</td><td>0.0</td><td>0</td><td>A-1889</td><td>0448</td></tr>\n",
       "<tr><td>2023-05-01</td><td>0.0</td><td>202502266</td><td>3375.037766666667</td><td>1448.4</td><td>0.8999940348365546</td><td>0</td><td>F-5516</td><td>1582</td></tr>\n",
       "<tr><td>2024-03-01</td><td>0.0</td><td>198448919</td><td>3307.481983333333</td><td>0.0</td><td>0.0</td><td>1</td><td>A-9919</td><td>1055</td></tr>\n",
       "<tr><td>2024-03-01</td><td>0.0</td><td>198448919</td><td>3307.481983333333</td><td>0.0</td><td>0.0</td><td>1</td><td>A-9919</td><td>1055</td></tr>\n",
       "<tr><td>2023-05-01</td><td>4.8</td><td>187576191</td><td>3126.2698499999997</td><td>160.9</td><td>0.09997862483098703</td><td>0</td><td>C-6361</td><td>1082</td></tr>\n",
       "<tr><td>2024-04-01</td><td>5.45</td><td>183467108</td><td>3057.7851333333333</td><td>0.0</td><td>0.0</td><td>0</td><td>B-7238</td><td>9039</td></tr>\n",
       "<tr><td>2024-03-01</td><td>0.0</td><td>180330360</td><td>3005.506</td><td>0.0</td><td>0.0</td><td>0</td><td>D-7334</td><td>9056</td></tr>\n",
       "<tr><td>2023-10-01</td><td>0.0</td><td>178196546</td><td>2969.942433333333</td><td>0.0</td><td>0.0</td><td>0</td><td>F-5516</td><td>1582</td></tr>\n",
       "<tr><td>2024-05-01</td><td>0.0</td><td>178031211</td><td>2967.18685</td><td>0.0</td><td>0.0</td><td>0</td><td>D-7334</td><td>9056</td></tr>\n",
       "<tr><td>2023-09-01</td><td>296.0</td><td>177106505</td><td>2951.7750833333334</td><td>129552.2</td><td>80.50000497096953</td><td>0</td><td>F-7292</td><td>9036</td></tr>\n",
       "<tr><td>2023-06-01</td><td>226.45</td><td>172921437</td><td>2882.0239500000002</td><td>85939.0</td><td>53.40001888968424</td><td>0</td><td>F-3807</td><td>9087</td></tr>\n",
       "<tr><td>2023-01-01</td><td>1210.55</td><td>172336899</td><td>2872.28165</td><td>364838.3</td><td>226.7000094448421</td><td>0</td><td>F-7292</td><td>9036</td></tr>\n",
       "<tr><td>2024-04-01</td><td>16.5</td><td>172017489</td><td>2866.95815</td><td>4828.0</td><td>2.9999801161218485</td><td>0</td><td>N-2670</td><td>9027</td></tr>\n",
       "<tr><td>2024-04-01</td><td>16.5</td><td>172017489</td><td>2866.95815</td><td>4828.032</td><td>3.0</td><td>0</td><td>N-2670</td><td>9027</td></tr>\n",
       "<tr><td>2024-04-01</td><td>0.0</td><td>170737609</td><td>2845.6268166666664</td><td>0.0</td><td>0.0</td><td>0</td><td>Y-3952</td><td>9047</td></tr>\n",
       "<tr><td>2023-03-01</td><td>1791.0</td><td>170147296</td><td>2835.788266666667</td><td>506782.4</td><td>314.89998409289745</td><td>0</td><td>F-7292</td><td>9036</td></tr>\n",
       "<tr><td>2023-05-01</td><td>0.0</td><td>169636613</td><td>2827.2768833333334</td><td>0.0</td><td>0.0</td><td>0</td><td>E-7057</td><td>0349</td></tr>\n",
       "<tr><td>2022-12-01</td><td>67.2</td><td>168930900</td><td>2815.515</td><td>27037.0</td><td>16.800012924520797</td><td>0</td><td>A-4916</td><td>0840</td></tr>\n",
       "<tr><td>2023-12-01</td><td>409.1</td><td>168746795</td><td>2812.4465833333334</td><td>71133.0</td><td>44.199997017418276</td><td>0</td><td>F-7292</td><td>9036</td></tr>\n",
       "<tr><td>2023-12-01</td><td>4.15</td><td>164807951</td><td>2746.7991833333335</td><td>0.0</td><td>0.0</td><td>0</td><td>B-9881</td><td>0024</td></tr>\n",
       "<tr><td>2023-12-01</td><td>4.15</td><td>164807951</td><td>2746.7991833333335</td><td>0.0</td><td>0.0</td><td>0</td><td>B-9881</td><td>0024</td></tr>\n",
       "<tr><td>2024-01-01</td><td>0.0</td><td>163267964</td><td>2721.1327333333334</td><td>21887.1</td><td>13.600013421617751</td><td>0</td><td>N-1089</td><td>0923</td></tr>\n",
       "<tr><td>2024-02-01</td><td>0.0</td><td>162786676</td><td>2713.111266666667</td><td>0.0</td><td>0.0</td><td>0</td><td>Y-4972</td><td>0277</td></tr>\n",
       "<tr><td>2024-02-01</td><td>0.0</td><td>162786676</td><td>2713.111266666667</td><td>0.0</td><td>0.0</td><td>0</td><td>Y-4972</td><td>0277</td></tr>\n",
       "<tr><td>2024-02-01</td><td>0.0</td><td>162786676</td><td>2713.111266666667</td><td>0.0</td><td>0.0</td><td>0</td><td>Y-4972</td><td>0277</td></tr>\n",
       "<tr><td>2024-04-01</td><td>5.45</td><td>162558888</td><td>2709.3148</td><td>482.8</td><td>0.2999980116121848</td><td>0</td><td>N-2670</td><td>9027</td></tr>\n",
       "<tr><td>2023-12-01</td><td>121.8</td><td>162200674</td><td>2703.3445666666667</td><td>21887.1</td><td>13.600013421617751</td><td>0</td><td>D-9119</td><td>1273</td></tr>\n",
       "<tr><td>2023-04-01</td><td>0.0</td><td>159525339</td><td>2658.75565</td><td>0.0</td><td>0.0</td><td>0</td><td>F-7292</td><td>9036</td></tr>\n",
       "<tr><td>2023-11-01</td><td>0.0</td><td>159043222</td><td>2650.720366666667</td><td>6437.4</td><td>4.000014912908614</td><td>0</td><td>D-6027</td><td>9015</td></tr>\n",
       "<tr><td>2023-07-01</td><td>89.95</td><td>159006200</td><td>2650.1033333333335</td><td>32347.8</td><td>20.09999105225483</td><td>0</td><td>F-7292</td><td>9036</td></tr>\n",
       "<tr><td>2023-12-01</td><td>4.15</td><td>158984394</td><td>2649.7399</td><td>160.9</td><td>0.09997862483098703</td><td>0</td><td>D-9119</td><td>1273</td></tr>\n",
       "<tr><td>2024-04-01</td><td>5.45</td><td>158267108</td><td>2637.7851333333333</td><td>0.0</td><td>0.0</td><td>0</td><td>B-7238</td><td>9039</td></tr>\n",
       "<tr><td>2023-12-01</td><td>4.15</td><td>157417396</td><td>2623.623266666667</td><td>0.0</td><td>0.0</td><td>0</td><td>F-7574</td><td>0723</td></tr>\n",
       "<tr><td>2024-02-01</td><td>203.05</td><td>157345003</td><td>2622.4167166666666</td><td>81110.9</td><td>50.399976636443164</td><td>0</td><td>F-7292</td><td>9036</td></tr>\n",
       "<tr><td>2024-02-01</td><td>203.05</td><td>157345003</td><td>2622.4167166666666</td><td>81110.9376</td><td>50.4</td><td>0</td><td>F-7292</td><td>9036</td></tr>\n",
       "<tr><td>2024-02-01</td><td>203.05</td><td>157345003</td><td>2622.4167166666666</td><td>81110.9376</td><td>50.4</td><td>0</td><td>F-7292</td><td>9036</td></tr>\n",
       "<tr><td>2023-09-01</td><td>0.0</td><td>156880406</td><td>2614.673433333333</td><td>0.0</td><td>0.0</td><td>0</td><td>D-6027</td><td>9015</td></tr>\n",
       "<tr><td>2023-01-01</td><td>0.0</td><td>156230173</td><td>2603.836216666667</td><td>0.0</td><td>0.0</td><td>0</td><td>F-0161</td><td>1428</td></tr>\n",
       "<tr><td>2024-02-01</td><td>0.0</td><td>156193623</td><td>2603.22705</td><td>0.0</td><td>0.0</td><td>0</td><td>D-7334</td><td>9056</td></tr>\n",
       "<tr><td>2024-02-01</td><td>0.0</td><td>156193623</td><td>2603.22705</td><td>0.0</td><td>0.0</td><td>0</td><td>D-7334</td><td>9056</td></tr>\n",
       "<tr><td>2023-10-01</td><td>0.0</td><td>155141676</td><td>2585.6946000000003</td><td>482.8</td><td>0.2999980116121848</td><td>0</td><td>F-9617</td><td>1420</td></tr>\n",
       "<tr><td>2023-07-01</td><td>89.3</td><td>155029481</td><td>2583.8246833333333</td><td>35083.7</td><td>21.800000497096953</td><td>0</td><td>F-3807</td><td>9087</td></tr>\n",
       "<tr><td>2023-09-01</td><td>4.15</td><td>154903064</td><td>2581.7177333333334</td><td>0.0</td><td>0.0</td><td>0</td><td>N-2670</td><td>9027</td></tr>\n",
       "<tr><td>2024-02-01</td><td>0.0</td><td>154840491</td><td>2580.6748500000003</td><td>0.0</td><td>0.0</td><td>0</td><td>F-2905</td><td>1170</td></tr>\n",
       "<tr><td>2024-02-01</td><td>0.0</td><td>154840491</td><td>2580.6748500000003</td><td>0.0</td><td>0.0</td><td>0</td><td>F-2905</td><td>1170</td></tr>\n",
       "<tr><td>2023-10-01</td><td>0.0</td><td>154273442</td><td>2571.2240333333334</td><td>160.9</td><td>0.09997862483098703</td><td>0</td><td>F-8012</td><td>9030</td></tr>\n",
       "<tr><td>2023-02-01</td><td>210.2</td><td>153561351</td><td>2559.35585</td><td>17380.9</td><td>10.799990555157878</td><td>0</td><td>F-7292</td><td>9036</td></tr>\n",
       "<tr><td>2023-04-01</td><td>194.6</td><td>153558921</td><td>2559.31535</td><td>11426.3</td><td>7.099973653861449</td><td>0</td><td>F-7292</td><td>9036</td></tr>\n",
       "<tr><td>2024-01-01</td><td>0.0</td><td>153365692</td><td>2556.094866666667</td><td>0.0</td><td>0.0</td><td>0</td><td>D-7334</td><td>9056</td></tr>\n",
       "<tr><td>2024-05-01</td><td>0.0</td><td>152831211</td><td>2547.18685</td><td>0.0</td><td>0.0</td><td>0</td><td>D-7334</td><td>9056</td></tr>\n",
       "<tr><td>2023-03-01</td><td>3429.0</td><td>152732741</td><td>2545.5456833333333</td><td>1058626.5</td><td>657.800010439036</td><td>0</td><td>F-7292</td><td>9036</td></tr>\n",
       "<tr><td>2023-04-01</td><td>0.0</td><td>151897067</td><td>2531.6177833333336</td><td>10782.6</td><td>6.699997017418277</td><td>0</td><td>N-5672</td><td>1209</td></tr>\n",
       "<tr><td>2023-03-01</td><td>0.0</td><td>150395771</td><td>2506.5961833333336</td><td>5149.9</td><td>3.199999502903046</td><td>0</td><td>B-9575</td><td>2161</td></tr>\n",
       "<tr><td>2023-08-01</td><td>109.45</td><td>149564904</td><td>2492.7484</td><td>44096.0</td><td>27.399984092897476</td><td>0</td><td>F-3807</td><td>9087</td></tr>\n",
       "<tr><td>2023-09-01</td><td>0.0</td><td>148689958</td><td>2478.165966666667</td><td>0.0</td><td>0.0</td><td>0</td><td>D-7334</td><td>9056</td></tr>\n",
       "<tr><td>2024-01-01</td><td>0.0</td><td>148609357</td><td>2476.8226166666664</td><td>0.0</td><td>0.0</td><td>0</td><td>N-1089</td><td>0923</td></tr>\n",
       "<tr><td>2024-02-01</td><td>0.0</td><td>147833546</td><td>2463.8924333333334</td><td>0.0</td><td>0.0</td><td>0</td><td>-</td><td>0387</td></tr>\n",
       "<tr><td>2023-05-01</td><td>4.15</td><td>147620864</td><td>2460.3477333333335</td><td>0.0</td><td>0.0</td><td>0</td><td>D-4189</td><td>1040</td></tr>\n",
       "<tr><td>2023-09-01</td><td>4.15</td><td>146404871</td><td>2440.0811833333337</td><td>160.9</td><td>0.09997862483098703</td><td>0</td><td>N-2670</td><td>9027</td></tr>\n",
       "<tr><td>2024-04-01</td><td>0.0</td><td>145537609</td><td>2425.6268166666664</td><td>0.0</td><td>0.0</td><td>0</td><td>Y-3952</td><td>9047</td></tr>\n",
       "<tr><td>2023-02-01</td><td>0.0</td><td>145093910</td><td>2418.2318333333333</td><td>0.0</td><td>0.0</td><td>0</td><td>B-5292</td><td>1148</td></tr>\n",
       "<tr><td>2024-03-01</td><td>0.0</td><td>143856551</td><td>2397.6091833333335</td><td>0.0</td><td>0.0</td><td>0</td><td>N-1089</td><td>0923</td></tr>\n",
       "<tr><td>2024-03-01</td><td>0.0</td><td>143856551</td><td>2397.6091833333335</td><td>0.0</td><td>0.0</td><td>0</td><td>N-1089</td><td>0923</td></tr>\n",
       "</table>\n"
      ],
      "text/plain": [
       "+----------+-----------------+----------------------+------------------+--------------------+-------------------+----------+---------+----------------------+\n",
       "|     month|total_fare_amount|fare_time_milliseconds| fare_time_minutes|trip_distance_meters|trip_distance_miles|sfo_pickup|driver_id|vehicle_placard_number|\n",
       "+----------+-----------------+----------------------+------------------+--------------------+-------------------+----------+---------+----------------------+\n",
       "|2024-02-01|           117.55|            2114160592| 35236.00986666667|             53269.0| 33.099822039290544|         1|   D-6085|                  2166|\n",
       "|2023-10-01|              0.0|            1545819105|       25763.65175|             20116.8|               12.5|         0|   F-7292|                  9036|\n",
       "|2023-02-01|             48.2|            1262603745|21043.395750000003|             14806.0|  9.200021872265966|         0|   C-5989|                  1130|\n",
       "|2022-12-01|              0.0|             463847665| 7730.794416666667|                 0.0|                0.0|         0|   A-8439|                  0111|\n",
       "|2024-05-01|              0.0|             364013371| 6066.889516666666|              3862.4| 2.3999840928974785|         0|   F-7292|                  9036|\n",
       "|2023-10-01|              0.0|             348253216| 5804.220266666667|                 0.0|                0.0|         0|   F-0546|                  0950|\n",
       "|2023-05-01|             4.15|             344215485|        5736.92475|                 0.0|                0.0|         0|   A-4916|                  0017|\n",
       "|2024-05-01|              0.0|             338813371| 5646.889516666666|                 0.0|                0.0|         0|   F-7292|                  9036|\n",
       "|2023-06-01|              0.0|             316862037|        5281.03395|                 0.0|                0.0|         0|   F-0707|                  0451|\n",
       "|2023-11-01|              0.0|             311217002| 5186.950033333333|                 0.0|                0.0|         0|   A-4523|                  1273|\n",
       "|2024-05-01|            349.3|             287434174| 4790.569566666667|            113619.7|   70.6000084506482|         0|   F-7292|                  9036|\n",
       "|2023-06-01|              0.0|             286917708|         4781.9618|                 0.0|                0.0|         0|   A-6577|                  0031|\n",
       "|2024-02-01|           222.55|             275354926| 4589.248766666667|             94951.3|  59.00000248548477|         0|   F-7292|                  9036|\n",
       "|2024-02-01|           222.55|             275354926| 4589.248766666667|   94951.29600000002|  59.00000000000001|         0|   F-7292|                  9036|\n",
       "|2023-02-01|             19.5|             267728192| 4462.136533333333|                 0.0|                0.0|         0|   C-0178|                  0101|\n",
       "|2024-05-01|            349.3|             262234174| 4370.569566666667|  113619.68639999999|               70.6|         0|   F-7292|                  9036|\n",
       "|2023-12-01|              0.0|             258855892| 4314.264866666666|             74029.8|  45.99998508709139|         0|   B-4787|                  9042|\n",
       "|2023-06-01|            76.95|             255332934|         4255.5489|             32347.8|  20.09999105225483|         0|   B-3966|                  9032|\n",
       "|2023-07-01|            156.9|             241084362|4018.0726999999997|             66626.8|  41.39997415095841|         0|   F-7292|                  9036|\n",
       "|2023-01-01|              0.0|             239690898|3994.8482999999997|                 0.0|                0.0|         0|        -|                  2711|\n",
       "|2023-04-01|              0.0|             237565246| 3959.420766666667|                 0.0|                0.0|         0|   F-7292|                  9036|\n",
       "|2023-05-01|              0.0|             237515650|3958.5941666666668|               321.9| 0.2000193867811978|         0|   D-4091|                  9000|\n",
       "|2023-10-01|           2551.5|             235212711|        3920.21185|                 0.0|                0.0|         0|   A-4968|                  0001|\n",
       "|2023-01-01|              0.0|             234908572|3915.1428666666666|                 0.0|                0.0|         0|   N-1142|                  0167|\n",
       "|2024-01-01|             4.15|             234687090|         3911.4515|                 0.0|                0.0|         0|   B-4787|                  9042|\n",
       "|2023-12-01|             40.2|             233601296|3893.3549333333335|             15128.0|  9.400103396166388|         1|   D-6085|                  2166|\n",
       "|2023-10-01|              0.0|             232427413|3873.7902166666668|                 0.0|                0.0|         1|   A-9917|                  1054|\n",
       "|2023-07-01|             78.9|             232087428|3868.1238000000003|             21726.1|  13.49997265966754|         0|   D-6027|                  9015|\n",
       "|2024-01-01|            11.95|             226882075| 3781.367916666667|              3862.4| 2.3999840928974785|         0|   N-2670|                  9027|\n",
       "|2023-06-01|             5.45|             226156798| 3769.279966666667|                 0.0|                0.0|         0|   N-2670|                  9027|\n",
       "|2023-12-01|              0.0|             225923845|3765.3974166666667|                 0.0|                0.0|         1|   A-9917|                  1054|\n",
       "|2023-03-01|              0.0|             224172633|3736.2105500000002|                 0.0|                0.0|         0|   N-5672|                  1209|\n",
       "|2022-12-01|              0.0|             217854860| 3630.914333333333|                 0.0|                0.0|         0|   C-9199|                  0981|\n",
       "|2023-04-01|             4.15|             217748959| 3629.149316666667|                 0.0|                0.0|         0|   D-4546|                  1350|\n",
       "|2023-01-01|              0.0|             209450305|3490.8384166666665|                 0.0|                0.0|         0|   Y-1508|                  1152|\n",
       "|2023-03-01|              0.0|             208304816|3471.7469333333333|                 0.0|                0.0|         0|   E-3622|                  0036|\n",
       "|2024-03-01|              0.0|             207561535|3459.3589166666666|                 0.0|                0.0|         0|   A-1889|                  0448|\n",
       "|2024-03-01|              0.0|             207561535|3459.3589166666666|                 0.0|                0.0|         0|   A-1889|                  0448|\n",
       "|2023-05-01|              0.0|             202502266| 3375.037766666667|              1448.4| 0.8999940348365546|         0|   F-5516|                  1582|\n",
       "|2024-03-01|              0.0|             198448919| 3307.481983333333|                 0.0|                0.0|         1|   A-9919|                  1055|\n",
       "|2024-03-01|              0.0|             198448919| 3307.481983333333|                 0.0|                0.0|         1|   A-9919|                  1055|\n",
       "|2023-05-01|              4.8|             187576191|3126.2698499999997|               160.9|0.09997862483098703|         0|   C-6361|                  1082|\n",
       "|2024-04-01|             5.45|             183467108|3057.7851333333333|                 0.0|                0.0|         0|   B-7238|                  9039|\n",
       "|2024-03-01|              0.0|             180330360|          3005.506|                 0.0|                0.0|         0|   D-7334|                  9056|\n",
       "|2023-10-01|              0.0|             178196546| 2969.942433333333|                 0.0|                0.0|         0|   F-5516|                  1582|\n",
       "|2024-05-01|              0.0|             178031211|        2967.18685|                 0.0|                0.0|         0|   D-7334|                  9056|\n",
       "|2023-09-01|            296.0|             177106505|2951.7750833333334|            129552.2|  80.50000497096953|         0|   F-7292|                  9036|\n",
       "|2023-06-01|           226.45|             172921437|2882.0239500000002|             85939.0|  53.40001888968424|         0|   F-3807|                  9087|\n",
       "|2023-01-01|          1210.55|             172336899|        2872.28165|            364838.3|  226.7000094448421|         0|   F-7292|                  9036|\n",
       "|2024-04-01|             16.5|             172017489|        2866.95815|              4828.0| 2.9999801161218485|         0|   N-2670|                  9027|\n",
       "|2024-04-01|             16.5|             172017489|        2866.95815|            4828.032|                3.0|         0|   N-2670|                  9027|\n",
       "|2024-04-01|              0.0|             170737609|2845.6268166666664|                 0.0|                0.0|         0|   Y-3952|                  9047|\n",
       "|2023-03-01|           1791.0|             170147296| 2835.788266666667|            506782.4| 314.89998409289745|         0|   F-7292|                  9036|\n",
       "|2023-05-01|              0.0|             169636613|2827.2768833333334|                 0.0|                0.0|         0|   E-7057|                  0349|\n",
       "|2022-12-01|             67.2|             168930900|          2815.515|             27037.0| 16.800012924520797|         0|   A-4916|                  0840|\n",
       "|2023-12-01|            409.1|             168746795|2812.4465833333334|             71133.0| 44.199997017418276|         0|   F-7292|                  9036|\n",
       "|2023-12-01|             4.15|             164807951|2746.7991833333335|                 0.0|                0.0|         0|   B-9881|                  0024|\n",
       "|2023-12-01|             4.15|             164807951|2746.7991833333335|                 0.0|                0.0|         0|   B-9881|                  0024|\n",
       "|2024-01-01|              0.0|             163267964|2721.1327333333334|             21887.1| 13.600013421617751|         0|   N-1089|                  0923|\n",
       "|2024-02-01|              0.0|             162786676| 2713.111266666667|                 0.0|                0.0|         0|   Y-4972|                  0277|\n",
       "|2024-02-01|              0.0|             162786676| 2713.111266666667|                 0.0|                0.0|         0|   Y-4972|                  0277|\n",
       "|2024-02-01|              0.0|             162786676| 2713.111266666667|                 0.0|                0.0|         0|   Y-4972|                  0277|\n",
       "|2024-04-01|             5.45|             162558888|         2709.3148|               482.8| 0.2999980116121848|         0|   N-2670|                  9027|\n",
       "|2023-12-01|            121.8|             162200674|2703.3445666666667|             21887.1| 13.600013421617751|         0|   D-9119|                  1273|\n",
       "|2023-04-01|              0.0|             159525339|        2658.75565|                 0.0|                0.0|         0|   F-7292|                  9036|\n",
       "|2023-11-01|              0.0|             159043222| 2650.720366666667|              6437.4|  4.000014912908614|         0|   D-6027|                  9015|\n",
       "|2023-07-01|            89.95|             159006200|2650.1033333333335|             32347.8|  20.09999105225483|         0|   F-7292|                  9036|\n",
       "|2023-12-01|             4.15|             158984394|         2649.7399|               160.9|0.09997862483098703|         0|   D-9119|                  1273|\n",
       "|2024-04-01|             5.45|             158267108|2637.7851333333333|                 0.0|                0.0|         0|   B-7238|                  9039|\n",
       "|2023-12-01|             4.15|             157417396| 2623.623266666667|                 0.0|                0.0|         0|   F-7574|                  0723|\n",
       "|2024-02-01|           203.05|             157345003|2622.4167166666666|             81110.9| 50.399976636443164|         0|   F-7292|                  9036|\n",
       "|2024-02-01|           203.05|             157345003|2622.4167166666666|          81110.9376|               50.4|         0|   F-7292|                  9036|\n",
       "|2024-02-01|           203.05|             157345003|2622.4167166666666|          81110.9376|               50.4|         0|   F-7292|                  9036|\n",
       "|2023-09-01|              0.0|             156880406| 2614.673433333333|                 0.0|                0.0|         0|   D-6027|                  9015|\n",
       "|2023-01-01|              0.0|             156230173| 2603.836216666667|                 0.0|                0.0|         0|   F-0161|                  1428|\n",
       "|2024-02-01|              0.0|             156193623|        2603.22705|                 0.0|                0.0|         0|   D-7334|                  9056|\n",
       "|2024-02-01|              0.0|             156193623|        2603.22705|                 0.0|                0.0|         0|   D-7334|                  9056|\n",
       "|2023-10-01|              0.0|             155141676|2585.6946000000003|               482.8| 0.2999980116121848|         0|   F-9617|                  1420|\n",
       "|2023-07-01|             89.3|             155029481|2583.8246833333333|             35083.7| 21.800000497096953|         0|   F-3807|                  9087|\n",
       "|2023-09-01|             4.15|             154903064|2581.7177333333334|                 0.0|                0.0|         0|   N-2670|                  9027|\n",
       "|2024-02-01|              0.0|             154840491|2580.6748500000003|                 0.0|                0.0|         0|   F-2905|                  1170|\n",
       "|2024-02-01|              0.0|             154840491|2580.6748500000003|                 0.0|                0.0|         0|   F-2905|                  1170|\n",
       "|2023-10-01|              0.0|             154273442|2571.2240333333334|               160.9|0.09997862483098703|         0|   F-8012|                  9030|\n",
       "|2023-02-01|            210.2|             153561351|        2559.35585|             17380.9| 10.799990555157878|         0|   F-7292|                  9036|\n",
       "|2023-04-01|            194.6|             153558921|        2559.31535|             11426.3|  7.099973653861449|         0|   F-7292|                  9036|\n",
       "|2024-01-01|              0.0|             153365692| 2556.094866666667|                 0.0|                0.0|         0|   D-7334|                  9056|\n",
       "|2024-05-01|              0.0|             152831211|        2547.18685|                 0.0|                0.0|         0|   D-7334|                  9056|\n",
       "|2023-03-01|           3429.0|             152732741|2545.5456833333333|           1058626.5|   657.800010439036|         0|   F-7292|                  9036|\n",
       "|2023-04-01|              0.0|             151897067|2531.6177833333336|             10782.6|  6.699997017418277|         0|   N-5672|                  1209|\n",
       "|2023-03-01|              0.0|             150395771|2506.5961833333336|              5149.9|  3.199999502903046|         0|   B-9575|                  2161|\n",
       "|2023-08-01|           109.45|             149564904|         2492.7484|             44096.0| 27.399984092897476|         0|   F-3807|                  9087|\n",
       "|2023-09-01|              0.0|             148689958| 2478.165966666667|                 0.0|                0.0|         0|   D-7334|                  9056|\n",
       "|2024-01-01|              0.0|             148609357|2476.8226166666664|                 0.0|                0.0|         0|   N-1089|                  0923|\n",
       "|2024-02-01|              0.0|             147833546|2463.8924333333334|                 0.0|                0.0|         0|        -|                  0387|\n",
       "|2023-05-01|             4.15|             147620864|2460.3477333333335|                 0.0|                0.0|         0|   D-4189|                  1040|\n",
       "|2023-09-01|             4.15|             146404871|2440.0811833333337|               160.9|0.09997862483098703|         0|   N-2670|                  9027|\n",
       "|2024-04-01|              0.0|             145537609|2425.6268166666664|                 0.0|                0.0|         0|   Y-3952|                  9047|\n",
       "|2023-02-01|              0.0|             145093910|2418.2318333333333|                 0.0|                0.0|         0|   B-5292|                  1148|\n",
       "|2024-03-01|              0.0|             143856551|2397.6091833333335|                 0.0|                0.0|         0|   N-1089|                  0923|\n",
       "|2024-03-01|              0.0|             143856551|2397.6091833333335|                 0.0|                0.0|         0|   N-1089|                  0923|\n",
       "+----------+-----------------+----------------------+------------------+--------------------+-------------------+----------+---------+----------------------+"
      ]
     },
     "execution_count": 22,
     "metadata": {},
     "output_type": "execute_result"
    }
   ],
   "source": [
    "df13 = spark.sql(\"\"\"\n",
    "select   *\n",
    "from     rides\n",
    "where    fare_time_minutes > 240\n",
    "order by fare_time_minutes desc;\n",
    "\"\"\")\n",
    "\n",
    "df13.limit(100)"
   ]
  },
  {
   "cell_type": "code",
   "execution_count": 23,
   "id": "2064c18a-56f0-41c6-a712-90c46515b7f9",
   "metadata": {},
   "outputs": [
    {
     "data": {
      "text/html": [
       "<table border='1'>\n",
       "<tr><th>trip_hour</th><th>trip_count</th></tr>\n",
       "<tr><td>2.0</td><td>15466</td></tr>\n",
       "<tr><td>3.0</td><td>4478</td></tr>\n",
       "<tr><td>4.0</td><td>1992</td></tr>\n",
       "<tr><td>5.0</td><td>919</td></tr>\n",
       "<tr><td>6.0</td><td>460</td></tr>\n",
       "<tr><td>7.0</td><td>65307</td></tr>\n",
       "<tr><td>8.0</td><td>9736</td></tr>\n",
       "<tr><td>9.0</td><td>1118</td></tr>\n",
       "<tr><td>10.0</td><td>405</td></tr>\n",
       "<tr><td>11.0</td><td>210</td></tr>\n",
       "<tr><td>12.0</td><td>146</td></tr>\n",
       "<tr><td>13.0</td><td>118</td></tr>\n",
       "<tr><td>14.0</td><td>148</td></tr>\n",
       "<tr><td>15.0</td><td>80</td></tr>\n",
       "<tr><td>16.0</td><td>50</td></tr>\n",
       "<tr><td>17.0</td><td>54</td></tr>\n",
       "<tr><td>18.0</td><td>47</td></tr>\n",
       "<tr><td>19.0</td><td>53</td></tr>\n",
       "<tr><td>20.0</td><td>42</td></tr>\n",
       "<tr><td>21.0</td><td>30</td></tr>\n",
       "<tr><td>22.0</td><td>29</td></tr>\n",
       "<tr><td>23.0</td><td>22</td></tr>\n",
       "<tr><td>24.0</td><td>33</td></tr>\n",
       "<tr><td>25.0</td><td>16</td></tr>\n",
       "<tr><td>26.0</td><td>15</td></tr>\n",
       "<tr><td>27.0</td><td>15</td></tr>\n",
       "<tr><td>28.0</td><td>14</td></tr>\n",
       "<tr><td>29.0</td><td>5</td></tr>\n",
       "<tr><td>30.0</td><td>8</td></tr>\n",
       "<tr><td>31.0</td><td>6</td></tr>\n",
       "<tr><td>32.0</td><td>6</td></tr>\n",
       "<tr><td>33.0</td><td>4</td></tr>\n",
       "<tr><td>34.0</td><td>5</td></tr>\n",
       "<tr><td>35.0</td><td>5</td></tr>\n",
       "<tr><td>36.0</td><td>7</td></tr>\n",
       "<tr><td>37.0</td><td>6</td></tr>\n",
       "<tr><td>38.0</td><td>2</td></tr>\n",
       "<tr><td>39.0</td><td>4</td></tr>\n",
       "<tr><td>40.0</td><td>6</td></tr>\n",
       "<tr><td>41.0</td><td>5</td></tr>\n",
       "<tr><td>42.0</td><td>5</td></tr>\n",
       "<tr><td>43.0</td><td>12</td></tr>\n",
       "<tr><td>44.0</td><td>10</td></tr>\n",
       "<tr><td>45.0</td><td>6</td></tr>\n",
       "<tr><td>46.0</td><td>2</td></tr>\n",
       "<tr><td>47.0</td><td>5</td></tr>\n",
       "<tr><td>48.0</td><td>4</td></tr>\n",
       "<tr><td>49.0</td><td>3</td></tr>\n",
       "<tr><td>50.0</td><td>1</td></tr>\n",
       "<tr><td>51.0</td><td>1</td></tr>\n",
       "<tr><td>52.0</td><td>1</td></tr>\n",
       "<tr><td>55.0</td><td>2</td></tr>\n",
       "<tr><td>56.0</td><td>1</td></tr>\n",
       "<tr><td>58.0</td><td>4</td></tr>\n",
       "<tr><td>60.0</td><td>1</td></tr>\n",
       "<tr><td>61.0</td><td>1</td></tr>\n",
       "<tr><td>62.0</td><td>1</td></tr>\n",
       "<tr><td>63.0</td><td>3</td></tr>\n",
       "<tr><td>64.0</td><td>1</td></tr>\n",
       "<tr><td>65.0</td><td>5</td></tr>\n",
       "<tr><td>66.0</td><td>2</td></tr>\n",
       "<tr><td>67.0</td><td>2</td></tr>\n",
       "<tr><td>71.0</td><td>1</td></tr>\n",
       "<tr><td>72.0</td><td>1</td></tr>\n",
       "<tr><td>73.0</td><td>1</td></tr>\n",
       "<tr><td>74.0</td><td>1</td></tr>\n",
       "<tr><td>76.0</td><td>2</td></tr>\n",
       "<tr><td>80.0</td><td>2</td></tr>\n",
       "<tr><td>86.0</td><td>1</td></tr>\n",
       "<tr><td>88.0</td><td>1</td></tr>\n",
       "<tr><td>94.0</td><td>1</td></tr>\n",
       "<tr><td>96.0</td><td>1</td></tr>\n",
       "<tr><td>97.0</td><td>1</td></tr>\n",
       "<tr><td>101.0</td><td>1</td></tr>\n",
       "<tr><td>129.0</td><td>1</td></tr>\n",
       "<tr><td>351.0</td><td>1</td></tr>\n",
       "<tr><td>429.0</td><td>1</td></tr>\n",
       "<tr><td>587.0</td><td>1</td></tr>\n",
       "</table>\n"
      ],
      "text/plain": [
       "+---------+----------+\n",
       "|trip_hour|trip_count|\n",
       "+---------+----------+\n",
       "|      2.0|     15466|\n",
       "|      3.0|      4478|\n",
       "|      4.0|      1992|\n",
       "|      5.0|       919|\n",
       "|      6.0|       460|\n",
       "|      7.0|     65307|\n",
       "|      8.0|      9736|\n",
       "|      9.0|      1118|\n",
       "|     10.0|       405|\n",
       "|     11.0|       210|\n",
       "|     12.0|       146|\n",
       "|     13.0|       118|\n",
       "|     14.0|       148|\n",
       "|     15.0|        80|\n",
       "|     16.0|        50|\n",
       "|     17.0|        54|\n",
       "|     18.0|        47|\n",
       "|     19.0|        53|\n",
       "|     20.0|        42|\n",
       "|     21.0|        30|\n",
       "|     22.0|        29|\n",
       "|     23.0|        22|\n",
       "|     24.0|        33|\n",
       "|     25.0|        16|\n",
       "|     26.0|        15|\n",
       "|     27.0|        15|\n",
       "|     28.0|        14|\n",
       "|     29.0|         5|\n",
       "|     30.0|         8|\n",
       "|     31.0|         6|\n",
       "|     32.0|         6|\n",
       "|     33.0|         4|\n",
       "|     34.0|         5|\n",
       "|     35.0|         5|\n",
       "|     36.0|         7|\n",
       "|     37.0|         6|\n",
       "|     38.0|         2|\n",
       "|     39.0|         4|\n",
       "|     40.0|         6|\n",
       "|     41.0|         5|\n",
       "|     42.0|         5|\n",
       "|     43.0|        12|\n",
       "|     44.0|        10|\n",
       "|     45.0|         6|\n",
       "|     46.0|         2|\n",
       "|     47.0|         5|\n",
       "|     48.0|         4|\n",
       "|     49.0|         3|\n",
       "|     50.0|         1|\n",
       "|     51.0|         1|\n",
       "|     52.0|         1|\n",
       "|     55.0|         2|\n",
       "|     56.0|         1|\n",
       "|     58.0|         4|\n",
       "|     60.0|         1|\n",
       "|     61.0|         1|\n",
       "|     62.0|         1|\n",
       "|     63.0|         3|\n",
       "|     64.0|         1|\n",
       "|     65.0|         5|\n",
       "|     66.0|         2|\n",
       "|     67.0|         2|\n",
       "|     71.0|         1|\n",
       "|     72.0|         1|\n",
       "|     73.0|         1|\n",
       "|     74.0|         1|\n",
       "|     76.0|         2|\n",
       "|     80.0|         2|\n",
       "|     86.0|         1|\n",
       "|     88.0|         1|\n",
       "|     94.0|         1|\n",
       "|     96.0|         1|\n",
       "|     97.0|         1|\n",
       "|    101.0|         1|\n",
       "|    129.0|         1|\n",
       "|    351.0|         1|\n",
       "|    429.0|         1|\n",
       "|    587.0|         1|\n",
       "+---------+----------+"
      ]
     },
     "execution_count": 23,
     "metadata": {},
     "output_type": "execute_result"
    }
   ],
   "source": [
    "df14 = spark.sql(\"\"\"\n",
    "select   round(fare_time_minutes / 60, 0) trip_hour, count(1) trip_count\n",
    "from     rides\n",
    "where    round(fare_time_minutes / 60, 0) >= 2\n",
    "group by trip_hour\n",
    "order by trip_hour;\n",
    "\"\"\")\n",
    "\n",
    "df14.limit(100)"
   ]
  },
  {
   "cell_type": "code",
   "execution_count": 24,
   "id": "25f0bca5-7232-4511-a77d-ea6ed2f4a61e",
   "metadata": {},
   "outputs": [
    {
     "data": {
      "image/png": "[encoded data removed]",
      "text/plain": [
       "<Figure size 640x480 with 1 Axes>"
      ]
     },
     "metadata": {},
     "output_type": "display_data"
    }
   ],
   "source": [
    "df14 = df14.limit(20).toPandas()\n",
    "df14.plot(kind=\"bar\", x=\"trip_hour\", y=\"trip_count\")\n",
    "plt.show()"
   ]
  },
  {
   "cell_type": "code",
   "execution_count": 25,
   "id": "24025921-aeac-4602-b2ac-4112afe3ce43",
   "metadata": {},
   "outputs": [
    {
     "data": {
      "text/html": [
       "<table border='1'>\n",
       "<tr><th>avg_ftm</th><th>std_ftm</th><th>one_std</th><th>two_std</th><th>three_std</th></tr>\n",
       "<tr><td>23.196721287420274</td><td>71.74252398062887</td><td>94.93924526804915</td><td>166.68176924867802</td><td>238.4242932293069</td></tr>\n",
       "</table>\n"
      ],
      "text/plain": [
       "+------------------+-----------------+-----------------+------------------+-----------------+\n",
       "|           avg_ftm|          std_ftm|          one_std|           two_std|        three_std|\n",
       "+------------------+-----------------+-----------------+------------------+-----------------+\n",
       "|23.196721287420274|71.74252398062887|94.93924526804915|166.68176924867802|238.4242932293069|\n",
       "+------------------+-----------------+-----------------+------------------+-----------------+"
      ]
     },
     "execution_count": 25,
     "metadata": {},
     "output_type": "execute_result"
    }
   ],
   "source": [
    "df15 = spark.sql(\"\"\"\n",
    "with stats as (\n",
    "select   avg(fare_time_minutes) avg_ftm, std(fare_time_minutes) std_ftm\n",
    "from     rides\n",
    "where    fare_time_milliseconds > 0\n",
    ")\n",
    "select   avg_ftm\n",
    "         , std_ftm\n",
    "         , avg_ftm + std_ftm one_std\n",
    "         , avg_ftm + 2*std_ftm two_std\n",
    "         , avg_ftm + 3*std_ftm three_std\n",
    "from     stats;\n",
    "\"\"\")\n",
    "\n",
    "df15.limit(10)"
   ]
  },
  {
   "cell_type": "markdown",
   "id": "180a2775-e497-4c48-b4c2-8ab27d238b5d",
   "metadata": {},
   "source": [
    "## Conclusion\n",
    "\n",
    "If you have SQL experience, SparkSQL makes it easy to manipulate data. One thing that I noticed with this data set is that it has some data that look like anamolies. In the next notebook, I will be using SparkML for anamoly detection and time series predictions."
   ]
  }
 ],
 "metadata": {
  "kernelspec": {
   "display_name": "Python 3 (ipykernel)",
   "language": "python",
   "name": "python3"
  },
  "language_info": {
   "codemirror_mode": {
    "name": "ipython",
    "version": 3
   },
   "file_extension": ".py",
   "mimetype": "text/x-python",
   "name": "python",
   "nbconvert_exporter": "python",
   "pygments_lexer": "ipython3",
   "version": "3.11.6"
  }
 },
 "nbformat": 4,
 "nbformat_minor": 5
}
