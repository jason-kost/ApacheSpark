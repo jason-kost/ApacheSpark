{
 "cells": [
  {
   "cell_type": "markdown",
   "id": "243b07d1-2949-4a8e-b7e5-2af8339cee21",
   "metadata": {
    "editable": true,
    "slideshow": {
     "slide_type": ""
    },
    "tags": []
   },
   "source": [
    "# Apache Spark: Initial Analysis"
   ]
  },
  {
   "cell_type": "markdown",
   "id": "31d3cc5c-5846-4996-b093-3054b0142d67",
   "metadata": {},
   "source": [
    "## Introduction\n",
    "\n",
    "This is the first in a series of Jupyter notebooks dedicated to learning various aspects of Apache Spark. Since Spark is a tool used for data processing and analysis, a data set is required for this lesson. The data source used is the Taxi Trips data set from San Francisco. The data set was downloaded as a CSV file. I converted the CSV file to a Parquet file.\n",
    "\n",
    "For my Spark instance, I am running Spark and this notebook in a Docker container."
   ]
  },
  {
   "cell_type": "markdown",
   "id": "a00a61cc-50de-494b-94b8-1c88971ee363",
   "metadata": {},
   "source": [
    "## A Short Note on Spark Clusters\n",
    "\n",
    "An Apache Spark application has three function: a driver program (the one that created the Spark Context), a cluster manager, and one or more cluster workers. I am running this on my laptop, so all of these functions are running on my machine. For additional information on Spark clusters, please refer to the [documentation](https://spark.apache.org/docs/latest/cluster-overview.html)."
   ]
  },
  {
   "cell_type": "markdown",
   "id": "d0c63f91-80e5-4ecc-93ab-7958fcfd0a32",
   "metadata": {},
   "source": [
    "## Setup\n",
    "\n",
    "The below cell creates a Spark session, names the app, and sets the configuration."
   ]
  },
  {
   "cell_type": "code",
   "execution_count": 1,
   "id": "8d321126-5391-4200-a45d-b67b0d903f2b",
   "metadata": {},
   "outputs": [],
   "source": [
    "from pyspark.sql import SparkSession\n",
    "from pyspark.sql import functions as F\n",
    "from pyspark.sql import types as T\n",
    "\n",
    "import matplotlib.pyplot as plt\n",
    "%matplotlib inline\n",
    "\n",
    "spark = (\n",
    "    SparkSession\n",
    "        .builder\n",
    "        .appName('test')\n",
    "        .config(\"spark.driver.memory\", \"4g\")\n",
    "        .getOrCreate()\n",
    ")\n",
    "\n",
    "# The following sets up the ability to output a nicely formatted table.\n",
    "spark.conf.set(\"spark.sql.repl.eagerEval.enabled\", True)\n"
   ]
  },
  {
   "cell_type": "markdown",
   "id": "2d8c791f-9ba3-491a-adc2-9e3656e39df1",
   "metadata": {},
   "source": [
    "## Load the Data\n",
    "\n",
    "The following cell reads a Parquet file into a Spark DataFrame."
   ]
  },
  {
   "cell_type": "code",
   "execution_count": 2,
   "id": "b5259267-5ef9-4e05-b23f-f4d4fd0357d4",
   "metadata": {},
   "outputs": [],
   "source": [
    "df = spark.read.parquet('/home/jovyan/work/Taxi_Trips_SF_20250621.parquet')"
   ]
  },
  {
   "cell_type": "markdown",
   "id": "da1f1a0f-4910-4617-93ea-7574bd38ca59",
   "metadata": {},
   "source": [
    "## Print the Schema\n",
    "\n",
    "Let's show the schema of the DataFrame. The schema will show each of the columns in the DataFrame along with the data type."
   ]
  },
  {
   "cell_type": "code",
   "execution_count": 3,
   "id": "1ca90521-a0a9-43cb-b8a7-3d41c4d4680a",
   "metadata": {},
   "outputs": [
    {
     "name": "stdout",
     "output_type": "stream",
     "text": [
      "root\n",
      " |-- vehicle_placard_number: string (nullable = true)\n",
      " |-- driver_id: string (nullable = true)\n",
      " |-- start_time_local: string (nullable = true)\n",
      " |-- end_time_local: string (nullable = true)\n",
      " |-- pickup_location_latitude: string (nullable = true)\n",
      " |-- pickup_location_longitude: string (nullable = true)\n",
      " |-- pickup_location: string (nullable = true)\n",
      " |-- dropoff_location_latitude: string (nullable = true)\n",
      " |-- dropoff_location_longitude: string (nullable = true)\n",
      " |-- dropoff_location: string (nullable = true)\n",
      " |-- hail_type: string (nullable = true)\n",
      " |-- paratransit: string (nullable = true)\n",
      " |-- sfo_pickup: string (nullable = true)\n",
      " |-- qa_flags: string (nullable = true)\n",
      " |-- fare_type: string (nullable = true)\n",
      " |-- meter_fare_amount: string (nullable = true)\n",
      " |-- upfront_pricing: string (nullable = true)\n",
      " |-- promo_rate: string (nullable = true)\n",
      " |-- tolls: string (nullable = true)\n",
      " |-- sf_exit_fee: string (nullable = true)\n",
      " |-- other_fees: string (nullable = true)\n",
      " |-- tip: string (nullable = true)\n",
      " |-- extra_amount: string (nullable = true)\n",
      " |-- total_fare_amount: string (nullable = true)\n",
      " |-- fare_time_milliseconds: string (nullable = true)\n",
      " |-- trip_distance_meters: string (nullable = true)\n",
      " |-- data_as_of: string (nullable = true)\n",
      " |-- data_loaded_at: string (nullable = true)\n",
      "\n"
     ]
    }
   ],
   "source": [
    "df.printSchema()"
   ]
  },
  {
   "cell_type": "markdown",
   "id": "f37aacd3-cdb3-4e76-8e1d-b21e936e5ba7",
   "metadata": {},
   "source": [
    "## Examine the Data\n",
    "\n",
    "The first step in my analysis is to examine the data. The below will output 10 rows from the DataFrame."
   ]
  },
  {
   "cell_type": "code",
   "execution_count": 4,
   "id": "0a99b3d2-6cc3-4c87-84c9-c73a92de7f84",
   "metadata": {},
   "outputs": [
    {
     "data": {
      "text/html": [
       "<table border='1'>\n",
       "<tr><th>vehicle_placard_number</th><th>driver_id</th><th>start_time_local</th><th>end_time_local</th><th>pickup_location_latitude</th><th>pickup_location_longitude</th><th>pickup_location</th><th>dropoff_location_latitude</th><th>dropoff_location_longitude</th><th>dropoff_location</th><th>hail_type</th><th>paratransit</th><th>sfo_pickup</th><th>qa_flags</th><th>fare_type</th><th>meter_fare_amount</th><th>upfront_pricing</th><th>promo_rate</th><th>tolls</th><th>sf_exit_fee</th><th>other_fees</th><th>tip</th><th>extra_amount</th><th>total_fare_amount</th><th>fare_time_milliseconds</th><th>trip_distance_meters</th><th>data_as_of</th><th>data_loaded_at</th></tr>\n",
       "<tr><td>1509</td><td>B-0039</td><td>2023/01/07 08:55:...</td><td>2023/01/07 09:18:...</td><td>37.615</td><td>-122.39</td><td>POINT (-122.39 37...</td><td>37.784</td><td>-122.404</td><td>POINT (-122.404 3...</td><td>street</td><td>0</td><td>1</td><td>NULL</td><td>meter_fare</td><td>51.6</td><td>NULL</td><td>NULL</td><td>NULL</td><td>NULL</td><td>0</td><td>0</td><td>5.5</td><td>57.1</td><td>925000</td><td>21882.4</td><td>2025/04/04 10:36:...</td><td>2025/04/07 04:16:...</td></tr>\n",
       "<tr><td>0656</td><td>D-0988</td><td>2022/12/07 01:21:...</td><td>2022/12/07 01:31:...</td><td>37.786</td><td>-122.395</td><td>POINT (-122.395 3...</td><td>37.781</td><td>-122.411</td><td>POINT (-122.411 3...</td><td>dispatch</td><td>0</td><td>0</td><td>NULL</td><td>meter_fare</td><td>11.3</td><td>NULL</td><td>NULL</td><td>NULL</td><td>NULL</td><td>0</td><td>0</td><td>0</td><td>11.3</td><td>192000</td><td>2188.24</td><td>2025/04/04 10:37:...</td><td>2025/04/07 04:16:...</td></tr>\n",
       "<tr><td>1309</td><td>D-4356</td><td>2023/10/05 08:45:...</td><td>2023/10/05 09:03:...</td><td>37.8</td><td>-122.439</td><td>POINT (-122.439 3...</td><td>37.759</td><td>-122.436</td><td>POINT (-122.436 3...</td><td>dispatch</td><td>0</td><td>0</td><td>LP-DR-IT-</td><td>meter_fare</td><td>17.15</td><td>NULL</td><td>NULL</td><td>NULL</td><td>NULL</td><td>0</td><td>0</td><td>0</td><td>17.15</td><td>484000</td><td>4682.19</td><td>2025/04/04 10:37:...</td><td>2025/04/07 04:16:...</td></tr>\n",
       "<tr><td>1202</td><td>D-1433</td><td>2023/01/07 08:56:...</td><td>2023/01/07 09:19:...</td><td>37.615</td><td>-122.39</td><td>POINT (-122.39 37...</td><td>37.795</td><td>-122.404</td><td>POINT (-122.404 3...</td><td>street</td><td>0</td><td>1</td><td>IT-</td><td>meter_fare</td><td>52.25</td><td>NULL</td><td>NULL</td><td>NULL</td><td>5.5</td><td>NULL</td><td>0</td><td>NULL</td><td>57.75</td><td>1394852</td><td>22530.8</td><td>2025/04/04 10:36:...</td><td>2025/04/07 04:16:...</td></tr>\n",
       "<tr><td>1212</td><td>D-3902</td><td>2022/12/07 01:21:...</td><td>2022/12/07 01:34:...</td><td>37.814</td><td>-122.251</td><td>POINT (-122.251 3...</td><td>37.864</td><td>-122.268</td><td>POINT (-122.268 3...</td><td>street</td><td>0</td><td>0</td><td>IT-</td><td>meter_fare</td><td>22.35</td><td>NULL</td><td>NULL</td><td>NULL</td><td>NULL</td><td>NULL</td><td>0</td><td>NULL</td><td>22.35</td><td>825041</td><td>7885.8</td><td>2025/04/04 10:37:...</td><td>2025/04/07 04:16:...</td></tr>\n",
       "<tr><td>1309</td><td>D-4356</td><td>2023/10/05 08:45:...</td><td>2023/10/05 09:03:...</td><td>37.8</td><td>-122.439</td><td>POINT (-122.439 3...</td><td>37.759</td><td>-122.436</td><td>POINT (-122.436 3...</td><td>dispatch</td><td>0</td><td>0</td><td>LP-IT-</td><td>meter_fare</td><td>17.15</td><td>NULL</td><td>NULL</td><td>NULL</td><td>NULL</td><td>0</td><td>0</td><td>0</td><td>17.15</td><td>484000</td><td>4682.19</td><td>2025/04/04 10:37:...</td><td>2025/04/07 04:16:...</td></tr>\n",
       "<tr><td>0434</td><td>A-9674</td><td>2022/12/07 01:21:...</td><td>2022/12/07 01:40:...</td><td>37.617</td><td>-122.384</td><td>POINT (-122.384 3...</td><td>37.774</td><td>-122.425</td><td>POINT (-122.425 3...</td><td>street</td><td>0</td><td>1</td><td>IT-</td><td>meter_fare</td><td>43.15</td><td>NULL</td><td>NULL</td><td>NULL</td><td>5.5</td><td>NULL</td><td>0</td><td>NULL</td><td>48.65</td><td>1169878</td><td>18990.3</td><td>2025/04/04 10:37:...</td><td>2025/04/07 04:16:...</td></tr>\n",
       "<tr><td>0480</td><td>B-2006</td><td>2023/01/07 08:56:...</td><td>2023/01/07 09:02:...</td><td>37.776</td><td>-122.421</td><td>POINT (-122.421 3...</td><td>37.788</td><td>-122.432</td><td>POINT (-122.432 3...</td><td>dispatch</td><td>0</td><td>0</td><td>IT-</td><td>meter_fare</td><td>9.35</td><td>NULL</td><td>NULL</td><td>NULL</td><td>NULL</td><td>NULL</td><td>0</td><td>NULL</td><td>9.35</td><td>338325</td><td>2092.1</td><td>2025/04/04 10:36:...</td><td>2025/04/07 04:16:...</td></tr>\n",
       "<tr><td>0362</td><td>D-6944</td><td>2023/10/05 08:46:...</td><td>2023/10/05 08:52:...</td><td>37.788</td><td>-122.408</td><td>POINT (-122.408 3...</td><td>37.791</td><td>-122.414</td><td>POINT (-122.414 3...</td><td>street</td><td>0</td><td>0</td><td>LP-DR-IT-</td><td>meter_fare</td><td>7.4</td><td>NULL</td><td>NULL</td><td>NULL</td><td>NULL</td><td>0</td><td>0</td><td>0</td><td>7.4</td><td>89000</td><td>901.04</td><td>2025/04/04 10:37:...</td><td>2025/04/07 04:16:...</td></tr>\n",
       "<tr><td>0030</td><td>N-1089</td><td>2023/01/07 08:56:...</td><td>2023/01/07 09:05:...</td><td>37.787</td><td>-122.408</td><td>POINT (-122.408 3...</td><td>37.78</td><td>-122.413</td><td>POINT (-122.413 3...</td><td>street</td><td>0</td><td>0</td><td>NULL</td><td>meter_fare</td><td>8.7</td><td>NULL</td><td>NULL</td><td>NULL</td><td>NULL</td><td>NULL</td><td>0</td><td>NULL</td><td>8.7</td><td>540746</td><td>965.6</td><td>2025/04/04 10:36:...</td><td>2025/04/07 04:16:...</td></tr>\n",
       "</table>\n"
      ],
      "text/plain": [
       "+----------------------+---------+--------------------+--------------------+------------------------+-------------------------+--------------------+-------------------------+--------------------------+--------------------+---------+-----------+----------+---------+----------+-----------------+---------------+----------+-----+-----------+----------+---+------------+-----------------+----------------------+--------------------+--------------------+--------------------+\n",
       "|vehicle_placard_number|driver_id|    start_time_local|      end_time_local|pickup_location_latitude|pickup_location_longitude|     pickup_location|dropoff_location_latitude|dropoff_location_longitude|    dropoff_location|hail_type|paratransit|sfo_pickup| qa_flags| fare_type|meter_fare_amount|upfront_pricing|promo_rate|tolls|sf_exit_fee|other_fees|tip|extra_amount|total_fare_amount|fare_time_milliseconds|trip_distance_meters|          data_as_of|      data_loaded_at|\n",
       "+----------------------+---------+--------------------+--------------------+------------------------+-------------------------+--------------------+-------------------------+--------------------------+--------------------+---------+-----------+----------+---------+----------+-----------------+---------------+----------+-----+-----------+----------+---+------------+-----------------+----------------------+--------------------+--------------------+--------------------+\n",
       "|                  1509|   B-0039|2023/01/07 08:55:...|2023/01/07 09:18:...|                  37.615|                  -122.39|POINT (-122.39 37...|                   37.784|                  -122.404|POINT (-122.404 3...|   street|          0|         1|     NULL|meter_fare|             51.6|           NULL|      NULL| NULL|       NULL|         0|  0|         5.5|             57.1|                925000|             21882.4|2025/04/04 10:36:...|2025/04/07 04:16:...|\n",
       "|                  0656|   D-0988|2022/12/07 01:21:...|2022/12/07 01:31:...|                  37.786|                 -122.395|POINT (-122.395 3...|                   37.781|                  -122.411|POINT (-122.411 3...| dispatch|          0|         0|     NULL|meter_fare|             11.3|           NULL|      NULL| NULL|       NULL|         0|  0|           0|             11.3|                192000|             2188.24|2025/04/04 10:37:...|2025/04/07 04:16:...|\n",
       "|                  1309|   D-4356|2023/10/05 08:45:...|2023/10/05 09:03:...|                    37.8|                 -122.439|POINT (-122.439 3...|                   37.759|                  -122.436|POINT (-122.436 3...| dispatch|          0|         0|LP-DR-IT-|meter_fare|            17.15|           NULL|      NULL| NULL|       NULL|         0|  0|           0|            17.15|                484000|             4682.19|2025/04/04 10:37:...|2025/04/07 04:16:...|\n",
       "|                  1202|   D-1433|2023/01/07 08:56:...|2023/01/07 09:19:...|                  37.615|                  -122.39|POINT (-122.39 37...|                   37.795|                  -122.404|POINT (-122.404 3...|   street|          0|         1|      IT-|meter_fare|            52.25|           NULL|      NULL| NULL|        5.5|      NULL|  0|        NULL|            57.75|               1394852|             22530.8|2025/04/04 10:36:...|2025/04/07 04:16:...|\n",
       "|                  1212|   D-3902|2022/12/07 01:21:...|2022/12/07 01:34:...|                  37.814|                 -122.251|POINT (-122.251 3...|                   37.864|                  -122.268|POINT (-122.268 3...|   street|          0|         0|      IT-|meter_fare|            22.35|           NULL|      NULL| NULL|       NULL|      NULL|  0|        NULL|            22.35|                825041|              7885.8|2025/04/04 10:37:...|2025/04/07 04:16:...|\n",
       "|                  1309|   D-4356|2023/10/05 08:45:...|2023/10/05 09:03:...|                    37.8|                 -122.439|POINT (-122.439 3...|                   37.759|                  -122.436|POINT (-122.436 3...| dispatch|          0|         0|   LP-IT-|meter_fare|            17.15|           NULL|      NULL| NULL|       NULL|         0|  0|           0|            17.15|                484000|             4682.19|2025/04/04 10:37:...|2025/04/07 04:16:...|\n",
       "|                  0434|   A-9674|2022/12/07 01:21:...|2022/12/07 01:40:...|                  37.617|                 -122.384|POINT (-122.384 3...|                   37.774|                  -122.425|POINT (-122.425 3...|   street|          0|         1|      IT-|meter_fare|            43.15|           NULL|      NULL| NULL|        5.5|      NULL|  0|        NULL|            48.65|               1169878|             18990.3|2025/04/04 10:37:...|2025/04/07 04:16:...|\n",
       "|                  0480|   B-2006|2023/01/07 08:56:...|2023/01/07 09:02:...|                  37.776|                 -122.421|POINT (-122.421 3...|                   37.788|                  -122.432|POINT (-122.432 3...| dispatch|          0|         0|      IT-|meter_fare|             9.35|           NULL|      NULL| NULL|       NULL|      NULL|  0|        NULL|             9.35|                338325|              2092.1|2025/04/04 10:36:...|2025/04/07 04:16:...|\n",
       "|                  0362|   D-6944|2023/10/05 08:46:...|2023/10/05 08:52:...|                  37.788|                 -122.408|POINT (-122.408 3...|                   37.791|                  -122.414|POINT (-122.414 3...|   street|          0|         0|LP-DR-IT-|meter_fare|              7.4|           NULL|      NULL| NULL|       NULL|         0|  0|           0|              7.4|                 89000|              901.04|2025/04/04 10:37:...|2025/04/07 04:16:...|\n",
       "|                  0030|   N-1089|2023/01/07 08:56:...|2023/01/07 09:05:...|                  37.787|                 -122.408|POINT (-122.408 3...|                    37.78|                  -122.413|POINT (-122.413 3...|   street|          0|         0|     NULL|meter_fare|              8.7|           NULL|      NULL| NULL|       NULL|      NULL|  0|        NULL|              8.7|                540746|               965.6|2025/04/04 10:36:...|2025/04/07 04:16:...|\n",
       "+----------------------+---------+--------------------+--------------------+------------------------+-------------------------+--------------------+-------------------------+--------------------------+--------------------+---------+-----------+----------+---------+----------+-----------------+---------------+----------+-----+-----------+----------+---+------------+-----------------+----------------------+--------------------+--------------------+--------------------+"
      ]
     },
     "execution_count": 4,
     "metadata": {},
     "output_type": "execute_result"
    }
   ],
   "source": [
    "df.limit(10)"
   ]
  },
  {
   "cell_type": "markdown",
   "id": "c5f56b2e-4522-4ea0-83b9-92b9e0ae61a5",
   "metadata": {},
   "source": [
    "## Data Cleanup\n",
    "\n",
    "As seen in the above schema, all of the columns have the data type of string. I am going to convert the datetime and numerics to more appropriate data types to ease the later analysis. \n"
   ]
  },
  {
   "cell_type": "code",
   "execution_count": 5,
   "id": "89d1c54d-6146-4b3f-85e6-cc4149bb4084",
   "metadata": {},
   "outputs": [],
   "source": [
    "\n",
    "df = df.withColumn(\"start_time_local\", F.to_timestamp(\"start_time_local\", 'y/M/d h:m:s a'))\n",
    "df = df.withColumn(\"end_time_local\", F.to_timestamp(\"end_time_local\", 'y/M/d h:m:s a'))\n",
    "df = df.withColumn(\"pickup_location_latitude\", df.pickup_location_latitude.cast(T.DoubleType()))\n",
    "df = df.withColumn(\"pickup_location_longitude\", df.pickup_location_longitude.cast(T.DoubleType()))\n",
    "df = df.withColumn(\"dropoff_location_latitude\", df.pickup_location_latitude.cast(T.DoubleType()))\n",
    "df = df.withColumn(\"dropoff_location_longitude\", df.pickup_location_longitude.cast(T.DoubleType()))\n",
    "df = df.withColumn(\"paratransit\", df.paratransit.cast(T.IntegerType()))\n",
    "df = df.withColumn(\"sfo_pickup\", df.sfo_pickup.cast(T.IntegerType()))\n",
    "df = df.withColumn(\"meter_fare_amount\", df.meter_fare_amount.cast(T.DoubleType()))\n",
    "df = df.withColumn(\"upfront_pricing\", df.upfront_pricing.cast(T.DoubleType()))\n",
    "df = df.withColumn(\"promo_rate\", df.promo_rate.cast(T.DoubleType()))\n",
    "df = df.withColumn(\"tolls\", df.tolls.cast(T.DoubleType()))\n",
    "df = df.withColumn(\"sf_exit_fee\", df.sf_exit_fee.cast(T.DoubleType()))\n",
    "df = df.withColumn(\"other_fees\", df.other_fees.cast(T.DoubleType()))\n",
    "df = df.withColumn(\"tip\", df.tip.cast(T.DoubleType()))\n",
    "df = df.withColumn(\"extra_amount\", df.extra_amount.cast(T.DoubleType()))\n",
    "df = df.withColumn(\"total_fare_amount\", df.total_fare_amount.cast(T.DoubleType()))\n",
    "df = df.withColumn(\"fare_time_milliseconds\", df.fare_time_milliseconds.cast(T.IntegerType()))\n",
    "df = df.withColumn(\"trip_distance_meters\", df.trip_distance_meters.cast(T.DoubleType()))\n",
    "df = df.withColumn(\"data_as_of\", F.to_timestamp(\"data_as_of\", 'y/M/d h:m:s a'))\n",
    "df = df.withColumn(\"data_loaded_at\", F.to_timestamp(\"data_loaded_at\", 'y/M/d h:m:s a'))\n"
   ]
  },
  {
   "cell_type": "code",
   "execution_count": 6,
   "id": "e9ac7282-4968-4b3d-8af8-7a1679c809b6",
   "metadata": {},
   "outputs": [
    {
     "name": "stdout",
     "output_type": "stream",
     "text": [
      "root\n",
      " |-- vehicle_placard_number: string (nullable = true)\n",
      " |-- driver_id: string (nullable = true)\n",
      " |-- start_time_local: timestamp (nullable = true)\n",
      " |-- end_time_local: timestamp (nullable = true)\n",
      " |-- pickup_location_latitude: double (nullable = true)\n",
      " |-- pickup_location_longitude: double (nullable = true)\n",
      " |-- pickup_location: string (nullable = true)\n",
      " |-- dropoff_location_latitude: double (nullable = true)\n",
      " |-- dropoff_location_longitude: double (nullable = true)\n",
      " |-- dropoff_location: string (nullable = true)\n",
      " |-- hail_type: string (nullable = true)\n",
      " |-- paratransit: integer (nullable = true)\n",
      " |-- sfo_pickup: integer (nullable = true)\n",
      " |-- qa_flags: string (nullable = true)\n",
      " |-- fare_type: string (nullable = true)\n",
      " |-- meter_fare_amount: double (nullable = true)\n",
      " |-- upfront_pricing: double (nullable = true)\n",
      " |-- promo_rate: double (nullable = true)\n",
      " |-- tolls: double (nullable = true)\n",
      " |-- sf_exit_fee: double (nullable = true)\n",
      " |-- other_fees: double (nullable = true)\n",
      " |-- tip: double (nullable = true)\n",
      " |-- extra_amount: double (nullable = true)\n",
      " |-- total_fare_amount: double (nullable = true)\n",
      " |-- fare_time_milliseconds: integer (nullable = true)\n",
      " |-- trip_distance_meters: double (nullable = true)\n",
      " |-- data_as_of: timestamp (nullable = true)\n",
      " |-- data_loaded_at: timestamp (nullable = true)\n",
      "\n"
     ]
    }
   ],
   "source": [
    "df.printSchema()"
   ]
  },
  {
   "cell_type": "code",
   "execution_count": 7,
   "id": "2393a175-f735-4532-91dd-caf5e01b7681",
   "metadata": {},
   "outputs": [
    {
     "data": {
      "text/html": [
       "<table border='1'>\n",
       "<tr><th>vehicle_placard_number</th><th>driver_id</th><th>start_time_local</th><th>end_time_local</th><th>pickup_location_latitude</th><th>pickup_location_longitude</th><th>pickup_location</th><th>dropoff_location_latitude</th><th>dropoff_location_longitude</th><th>dropoff_location</th><th>hail_type</th><th>paratransit</th><th>sfo_pickup</th><th>qa_flags</th><th>fare_type</th><th>meter_fare_amount</th><th>upfront_pricing</th><th>promo_rate</th><th>tolls</th><th>sf_exit_fee</th><th>other_fees</th><th>tip</th><th>extra_amount</th><th>total_fare_amount</th><th>fare_time_milliseconds</th><th>trip_distance_meters</th><th>data_as_of</th><th>data_loaded_at</th></tr>\n",
       "<tr><td>1509</td><td>B-0039</td><td>2023-01-07 20:55:45</td><td>2023-01-07 21:18:11</td><td>37.615</td><td>-122.39</td><td>POINT (-122.39 37...</td><td>37.615</td><td>-122.39</td><td>POINT (-122.404 3...</td><td>street</td><td>0</td><td>1</td><td>NULL</td><td>meter_fare</td><td>51.6</td><td>NULL</td><td>NULL</td><td>NULL</td><td>NULL</td><td>0.0</td><td>0.0</td><td>5.5</td><td>57.1</td><td>925000</td><td>21882.4</td><td>2025-04-04 10:36:57</td><td>2025-04-07 16:16:16</td></tr>\n",
       "<tr><td>0656</td><td>D-0988</td><td>2022-12-07 13:21:04</td><td>2022-12-07 13:31:13</td><td>37.786</td><td>-122.395</td><td>POINT (-122.395 3...</td><td>37.786</td><td>-122.395</td><td>POINT (-122.411 3...</td><td>dispatch</td><td>0</td><td>0</td><td>NULL</td><td>meter_fare</td><td>11.3</td><td>NULL</td><td>NULL</td><td>NULL</td><td>NULL</td><td>0.0</td><td>0.0</td><td>0.0</td><td>11.3</td><td>192000</td><td>2188.24</td><td>2025-04-04 10:37:03</td><td>2025-04-07 16:16:16</td></tr>\n",
       "<tr><td>1309</td><td>D-4356</td><td>2023-10-05 20:45:50</td><td>2023-10-05 21:03:53</td><td>37.8</td><td>-122.439</td><td>POINT (-122.439 3...</td><td>37.8</td><td>-122.439</td><td>POINT (-122.436 3...</td><td>dispatch</td><td>0</td><td>0</td><td>LP-DR-IT-</td><td>meter_fare</td><td>17.15</td><td>NULL</td><td>NULL</td><td>NULL</td><td>NULL</td><td>0.0</td><td>0.0</td><td>0.0</td><td>17.15</td><td>484000</td><td>4682.19</td><td>2025-04-04 10:37:06</td><td>2025-04-07 16:16:16</td></tr>\n",
       "<tr><td>1202</td><td>D-1433</td><td>2023-01-07 20:56:05</td><td>2023-01-07 21:19:20</td><td>37.615</td><td>-122.39</td><td>POINT (-122.39 37...</td><td>37.615</td><td>-122.39</td><td>POINT (-122.404 3...</td><td>street</td><td>0</td><td>1</td><td>IT-</td><td>meter_fare</td><td>52.25</td><td>NULL</td><td>NULL</td><td>NULL</td><td>5.5</td><td>NULL</td><td>0.0</td><td>NULL</td><td>57.75</td><td>1394852</td><td>22530.8</td><td>2025-04-04 10:36:57</td><td>2025-04-07 16:16:16</td></tr>\n",
       "<tr><td>1212</td><td>D-3902</td><td>2022-12-07 13:21:05</td><td>2022-12-07 13:34:50</td><td>37.814</td><td>-122.251</td><td>POINT (-122.251 3...</td><td>37.814</td><td>-122.251</td><td>POINT (-122.268 3...</td><td>street</td><td>0</td><td>0</td><td>IT-</td><td>meter_fare</td><td>22.35</td><td>NULL</td><td>NULL</td><td>NULL</td><td>NULL</td><td>NULL</td><td>0.0</td><td>NULL</td><td>22.35</td><td>825041</td><td>7885.8</td><td>2025-04-04 10:37:03</td><td>2025-04-07 16:16:16</td></tr>\n",
       "<tr><td>1309</td><td>D-4356</td><td>2023-10-05 20:45:50</td><td>2023-10-05 21:03:53</td><td>37.8</td><td>-122.439</td><td>POINT (-122.439 3...</td><td>37.8</td><td>-122.439</td><td>POINT (-122.436 3...</td><td>dispatch</td><td>0</td><td>0</td><td>LP-IT-</td><td>meter_fare</td><td>17.15</td><td>NULL</td><td>NULL</td><td>NULL</td><td>NULL</td><td>0.0</td><td>0.0</td><td>0.0</td><td>17.15</td><td>484000</td><td>4682.19</td><td>2025-04-04 10:37:06</td><td>2025-04-07 16:16:16</td></tr>\n",
       "<tr><td>0434</td><td>A-9674</td><td>2022-12-07 13:21:06</td><td>2022-12-07 13:40:35</td><td>37.617</td><td>-122.384</td><td>POINT (-122.384 3...</td><td>37.617</td><td>-122.384</td><td>POINT (-122.425 3...</td><td>street</td><td>0</td><td>1</td><td>IT-</td><td>meter_fare</td><td>43.15</td><td>NULL</td><td>NULL</td><td>NULL</td><td>5.5</td><td>NULL</td><td>0.0</td><td>NULL</td><td>48.65</td><td>1169878</td><td>18990.3</td><td>2025-04-04 10:37:03</td><td>2025-04-07 16:16:16</td></tr>\n",
       "<tr><td>0480</td><td>B-2006</td><td>2023-01-07 20:56:25</td><td>2023-01-07 21:02:04</td><td>37.776</td><td>-122.421</td><td>POINT (-122.421 3...</td><td>37.776</td><td>-122.421</td><td>POINT (-122.432 3...</td><td>dispatch</td><td>0</td><td>0</td><td>IT-</td><td>meter_fare</td><td>9.35</td><td>NULL</td><td>NULL</td><td>NULL</td><td>NULL</td><td>NULL</td><td>0.0</td><td>NULL</td><td>9.35</td><td>338325</td><td>2092.1</td><td>2025-04-04 10:36:57</td><td>2025-04-07 16:16:16</td></tr>\n",
       "<tr><td>0362</td><td>D-6944</td><td>2023-10-05 20:46:24</td><td>2023-10-05 20:52:36</td><td>37.788</td><td>-122.408</td><td>POINT (-122.408 3...</td><td>37.788</td><td>-122.408</td><td>POINT (-122.414 3...</td><td>street</td><td>0</td><td>0</td><td>LP-DR-IT-</td><td>meter_fare</td><td>7.4</td><td>NULL</td><td>NULL</td><td>NULL</td><td>NULL</td><td>0.0</td><td>0.0</td><td>0.0</td><td>7.4</td><td>89000</td><td>901.04</td><td>2025-04-04 10:37:06</td><td>2025-04-07 16:16:16</td></tr>\n",
       "<tr><td>0030</td><td>N-1089</td><td>2023-01-07 20:56:48</td><td>2023-01-07 21:05:49</td><td>37.787</td><td>-122.408</td><td>POINT (-122.408 3...</td><td>37.787</td><td>-122.408</td><td>POINT (-122.413 3...</td><td>street</td><td>0</td><td>0</td><td>NULL</td><td>meter_fare</td><td>8.7</td><td>NULL</td><td>NULL</td><td>NULL</td><td>NULL</td><td>NULL</td><td>0.0</td><td>NULL</td><td>8.7</td><td>540746</td><td>965.6</td><td>2025-04-04 10:36:57</td><td>2025-04-07 16:16:16</td></tr>\n",
       "</table>\n"
      ],
      "text/plain": [
       "+----------------------+---------+-------------------+-------------------+------------------------+-------------------------+--------------------+-------------------------+--------------------------+--------------------+---------+-----------+----------+---------+----------+-----------------+---------------+----------+-----+-----------+----------+---+------------+-----------------+----------------------+--------------------+-------------------+-------------------+\n",
       "|vehicle_placard_number|driver_id|   start_time_local|     end_time_local|pickup_location_latitude|pickup_location_longitude|     pickup_location|dropoff_location_latitude|dropoff_location_longitude|    dropoff_location|hail_type|paratransit|sfo_pickup| qa_flags| fare_type|meter_fare_amount|upfront_pricing|promo_rate|tolls|sf_exit_fee|other_fees|tip|extra_amount|total_fare_amount|fare_time_milliseconds|trip_distance_meters|         data_as_of|     data_loaded_at|\n",
       "+----------------------+---------+-------------------+-------------------+------------------------+-------------------------+--------------------+-------------------------+--------------------------+--------------------+---------+-----------+----------+---------+----------+-----------------+---------------+----------+-----+-----------+----------+---+------------+-----------------+----------------------+--------------------+-------------------+-------------------+\n",
       "|                  1509|   B-0039|2023-01-07 20:55:45|2023-01-07 21:18:11|                  37.615|                  -122.39|POINT (-122.39 37...|                   37.615|                   -122.39|POINT (-122.404 3...|   street|          0|         1|     NULL|meter_fare|             51.6|           NULL|      NULL| NULL|       NULL|       0.0|0.0|         5.5|             57.1|                925000|             21882.4|2025-04-04 10:36:57|2025-04-07 16:16:16|\n",
       "|                  0656|   D-0988|2022-12-07 13:21:04|2022-12-07 13:31:13|                  37.786|                 -122.395|POINT (-122.395 3...|                   37.786|                  -122.395|POINT (-122.411 3...| dispatch|          0|         0|     NULL|meter_fare|             11.3|           NULL|      NULL| NULL|       NULL|       0.0|0.0|         0.0|             11.3|                192000|             2188.24|2025-04-04 10:37:03|2025-04-07 16:16:16|\n",
       "|                  1309|   D-4356|2023-10-05 20:45:50|2023-10-05 21:03:53|                    37.8|                 -122.439|POINT (-122.439 3...|                     37.8|                  -122.439|POINT (-122.436 3...| dispatch|          0|         0|LP-DR-IT-|meter_fare|            17.15|           NULL|      NULL| NULL|       NULL|       0.0|0.0|         0.0|            17.15|                484000|             4682.19|2025-04-04 10:37:06|2025-04-07 16:16:16|\n",
       "|                  1202|   D-1433|2023-01-07 20:56:05|2023-01-07 21:19:20|                  37.615|                  -122.39|POINT (-122.39 37...|                   37.615|                   -122.39|POINT (-122.404 3...|   street|          0|         1|      IT-|meter_fare|            52.25|           NULL|      NULL| NULL|        5.5|      NULL|0.0|        NULL|            57.75|               1394852|             22530.8|2025-04-04 10:36:57|2025-04-07 16:16:16|\n",
       "|                  1212|   D-3902|2022-12-07 13:21:05|2022-12-07 13:34:50|                  37.814|                 -122.251|POINT (-122.251 3...|                   37.814|                  -122.251|POINT (-122.268 3...|   street|          0|         0|      IT-|meter_fare|            22.35|           NULL|      NULL| NULL|       NULL|      NULL|0.0|        NULL|            22.35|                825041|              7885.8|2025-04-04 10:37:03|2025-04-07 16:16:16|\n",
       "|                  1309|   D-4356|2023-10-05 20:45:50|2023-10-05 21:03:53|                    37.8|                 -122.439|POINT (-122.439 3...|                     37.8|                  -122.439|POINT (-122.436 3...| dispatch|          0|         0|   LP-IT-|meter_fare|            17.15|           NULL|      NULL| NULL|       NULL|       0.0|0.0|         0.0|            17.15|                484000|             4682.19|2025-04-04 10:37:06|2025-04-07 16:16:16|\n",
       "|                  0434|   A-9674|2022-12-07 13:21:06|2022-12-07 13:40:35|                  37.617|                 -122.384|POINT (-122.384 3...|                   37.617|                  -122.384|POINT (-122.425 3...|   street|          0|         1|      IT-|meter_fare|            43.15|           NULL|      NULL| NULL|        5.5|      NULL|0.0|        NULL|            48.65|               1169878|             18990.3|2025-04-04 10:37:03|2025-04-07 16:16:16|\n",
       "|                  0480|   B-2006|2023-01-07 20:56:25|2023-01-07 21:02:04|                  37.776|                 -122.421|POINT (-122.421 3...|                   37.776|                  -122.421|POINT (-122.432 3...| dispatch|          0|         0|      IT-|meter_fare|             9.35|           NULL|      NULL| NULL|       NULL|      NULL|0.0|        NULL|             9.35|                338325|              2092.1|2025-04-04 10:36:57|2025-04-07 16:16:16|\n",
       "|                  0362|   D-6944|2023-10-05 20:46:24|2023-10-05 20:52:36|                  37.788|                 -122.408|POINT (-122.408 3...|                   37.788|                  -122.408|POINT (-122.414 3...|   street|          0|         0|LP-DR-IT-|meter_fare|              7.4|           NULL|      NULL| NULL|       NULL|       0.0|0.0|         0.0|              7.4|                 89000|              901.04|2025-04-04 10:37:06|2025-04-07 16:16:16|\n",
       "|                  0030|   N-1089|2023-01-07 20:56:48|2023-01-07 21:05:49|                  37.787|                 -122.408|POINT (-122.408 3...|                   37.787|                  -122.408|POINT (-122.413 3...|   street|          0|         0|     NULL|meter_fare|              8.7|           NULL|      NULL| NULL|       NULL|      NULL|0.0|        NULL|              8.7|                540746|               965.6|2025-04-04 10:36:57|2025-04-07 16:16:16|\n",
       "+----------------------+---------+-------------------+-------------------+------------------------+-------------------------+--------------------+-------------------------+--------------------------+--------------------+---------+-----------+----------+---------+----------+-----------------+---------------+----------+-----+-----------+----------+---+------------+-----------------+----------------------+--------------------+-------------------+-------------------+"
      ]
     },
     "execution_count": 7,
     "metadata": {},
     "output_type": "execute_result"
    }
   ],
   "source": [
    "df.limit(10)"
   ]
  },
  {
   "cell_type": "markdown",
   "id": "d2ebd514-4491-4c95-abe4-13d0a79eb76b",
   "metadata": {},
   "source": [
    "## Write the Cleaned Data to A New Parquet File\n",
    "\n",
    "Let's write the cleaned data to a new Parquet file that can be used in further Notebooks so this cleaning step does not need to be done in each one.\n",
    "\n",
    "#### <span style=\"color:red;\">Note:</span>\n",
    "\n",
    "This has been written out so it can be used in other notebooks. Commenting this out since it is not needed."
   ]
  },
  {
   "cell_type": "code",
   "execution_count": 8,
   "id": "af525fc9-c301-4324-998a-c1caae19b226",
   "metadata": {},
   "outputs": [],
   "source": [
    "\n",
    "# df.write.mode(\"overwrite\").parquet(\"file:///home/jovyan/work/Taxi_Trips_SF_20250621_clean.parquet\")\n"
   ]
  },
  {
   "cell_type": "markdown",
   "id": "6d7c96f1-7a1f-4a55-b373-6c87b5c83a1d",
   "metadata": {},
   "source": [
    "## Read the Cleaned Data\n",
    "\n",
    "Now let's read the cleaned data into a new DataFrame and print out the schema."
   ]
  },
  {
   "cell_type": "code",
   "execution_count": 27,
   "id": "9aaa6110-ddef-4ed1-9b1d-925e5e6273e4",
   "metadata": {},
   "outputs": [
    {
     "name": "stdout",
     "output_type": "stream",
     "text": [
      "root\n",
      " |-- vehicle_placard_number: string (nullable = true)\n",
      " |-- driver_id: string (nullable = true)\n",
      " |-- start_time_local: timestamp (nullable = true)\n",
      " |-- end_time_local: timestamp (nullable = true)\n",
      " |-- pickup_location_latitude: double (nullable = true)\n",
      " |-- pickup_location_longitude: double (nullable = true)\n",
      " |-- pickup_location: string (nullable = true)\n",
      " |-- dropoff_location_latitude: double (nullable = true)\n",
      " |-- dropoff_location_longitude: double (nullable = true)\n",
      " |-- dropoff_location: string (nullable = true)\n",
      " |-- hail_type: string (nullable = true)\n",
      " |-- paratransit: integer (nullable = true)\n",
      " |-- sfo_pickup: integer (nullable = true)\n",
      " |-- qa_flags: string (nullable = true)\n",
      " |-- fare_type: string (nullable = true)\n",
      " |-- meter_fare_amount: double (nullable = true)\n",
      " |-- upfront_pricing: double (nullable = true)\n",
      " |-- promo_rate: double (nullable = true)\n",
      " |-- tolls: double (nullable = true)\n",
      " |-- sf_exit_fee: double (nullable = true)\n",
      " |-- other_fees: double (nullable = true)\n",
      " |-- tip: double (nullable = true)\n",
      " |-- extra_amount: double (nullable = true)\n",
      " |-- total_fare_amount: double (nullable = true)\n",
      " |-- fare_time_milliseconds: integer (nullable = true)\n",
      " |-- trip_distance_meters: double (nullable = true)\n",
      " |-- data_as_of: timestamp (nullable = true)\n",
      " |-- data_loaded_at: timestamp (nullable = true)\n",
      "\n"
     ]
    }
   ],
   "source": [
    "# df_clean = spark.read.parquet('/home/jovyan/work/Taxi_Trips_SF_20250621_clean.parquet')\n",
    "\n",
    "# df_clean.printSchema()"
   ]
  },
  {
   "cell_type": "markdown",
   "id": "9bbb3f76-3115-4b14-8cc2-8f460d503f30",
   "metadata": {},
   "source": [
    "## Count the Number of Records in the DataFrame\n",
    "\n",
    "The count() method will print out the number of records in the DataFrame."
   ]
  },
  {
   "cell_type": "code",
   "execution_count": 10,
   "id": "4a31dfb7-af20-4eb4-bdf3-ea59e8db383e",
   "metadata": {},
   "outputs": [
    {
     "data": {
      "text/plain": [
       "4129083"
      ]
     },
     "execution_count": 10,
     "metadata": {},
     "output_type": "execute_result"
    }
   ],
   "source": [
    "df.count()"
   ]
  },
  {
   "cell_type": "markdown",
   "id": "5f9cb728-1312-417a-913b-eadf3d44034b",
   "metadata": {},
   "source": [
    "## The describe() Method.\n",
    "\n",
    "The describe() method prints some summary statistics about each column in the DataFrame.\n",
    "\n",
    "#### <span style=\"color:red;\">Note:</span>\n",
    "The describe method takes a long time to execute. Comment it out to avoid this or leave it uncommented to see the output."
   ]
  },
  {
   "cell_type": "code",
   "execution_count": 11,
   "id": "84537d24-c476-4ecd-8445-37f3d914781b",
   "metadata": {},
   "outputs": [],
   "source": [
    "#df.describe()"
   ]
  },
  {
   "cell_type": "markdown",
   "id": "f52eb772-6cbc-4d0c-9537-6a4bc8c6fb8d",
   "metadata": {},
   "source": [
    "## Count the Number of Trips by Driver\n",
    "\n",
    "The following cell will count the number of trips taken by each driver."
   ]
  },
  {
   "cell_type": "code",
   "execution_count": 12,
   "id": "15ef499b-b6a6-401c-8071-49928f8a4edd",
   "metadata": {},
   "outputs": [],
   "source": [
    "\n",
    "df2 = df.groupBy(\"driver_id\").agg(F.count(\"driver_id\").alias(\"cnt\")).orderBy(F.col(\"cnt\").desc())\n"
   ]
  },
  {
   "cell_type": "markdown",
   "id": "1ec344f8-072f-4be7-8401-47bafd553948",
   "metadata": {},
   "source": [
    "## Plot the Data\n",
    "\n",
    "You can use Pandas and matplotlib to create a chart from the DataFrame. The DataFrame needs to be converted to a Pandas DataFrame and then it can be charted using matplotlib. In order to keep the chart reasonable, the plotted data is limited to the top 20 drivers by trip count."
   ]
  },
  {
   "cell_type": "code",
   "execution_count": 13,
   "id": "40cbe509-de57-4d39-b5aa-f8940abac0b4",
   "metadata": {},
   "outputs": [
    {
     "data": {
      "image/png": "[encoded data removed]",
      "text/plain": [
       "<Figure size 640x480 with 1 Axes>"
      ]
     },
     "metadata": {},
     "output_type": "display_data"
    }
   ],
   "source": [
    "df3 = df2.limit(20).toPandas()\n",
    "df3.plot(kind=\"bar\", x=\"driver_id\", y=\"cnt\")\n",
    "plt.show()"
   ]
  },
  {
   "cell_type": "markdown",
   "id": "8c57d965-586e-443b-8cc4-8b46f19b6a5e",
   "metadata": {},
   "source": [
    "## Calculate the Average Number of Trips per Driver\n",
    "\n",
    "The following cell will calculate the average number of trips per driver using the Spark avg function."
   ]
  },
  {
   "cell_type": "code",
   "execution_count": 14,
   "id": "a1340a00-bb10-414b-860a-7086ea52a9c4",
   "metadata": {},
   "outputs": [
    {
     "data": {
      "text/html": [
       "<table border='1'>\n",
       "<tr><th>avg(cnt)</th></tr>\n",
       "<tr><td>2955.6785969935577</td></tr>\n",
       "</table>\n"
      ],
      "text/plain": [
       "+------------------+\n",
       "|          avg(cnt)|\n",
       "+------------------+\n",
       "|2955.6785969935577|\n",
       "+------------------+"
      ]
     },
     "execution_count": 14,
     "metadata": {},
     "output_type": "execute_result"
    }
   ],
   "source": [
    "df2.select(F.avg(\"cnt\")).limit(10)"
   ]
  },
  {
   "cell_type": "markdown",
   "id": "f14ce797-4173-450d-958d-26f13c17f8a2",
   "metadata": {},
   "source": [
    "### Note\n",
    "\n",
    "Spark operations fall into two categories [transformations](https://spark.apache.org/docs/latest/rdd-programming-guide.html#transformations) and [actions](https://spark.apache.org/docs/latest/rdd-programming-guide.html#actions). Transformations are lazily evaluated. That is, they are not evaluated until an action is taken. Spark will build a directed acyclic graph (DAG) with the transformation and then execute once an action is called."
   ]
  },
  {
   "cell_type": "markdown",
   "id": "519a38c6-d8ca-4938-a593-b69e26e31e67",
   "metadata": {},
   "source": [
    "## Count the Number of Drivers in the Data Set\n",
    "\n",
    "The following uses the distinct and count functions to find the number of distinct drivers in the data set."
   ]
  },
  {
   "cell_type": "code",
   "execution_count": 15,
   "id": "db7af8b5-0982-4bfb-81b7-8b28683eba47",
   "metadata": {},
   "outputs": [
    {
     "data": {
      "text/plain": [
       "1397"
      ]
     },
     "execution_count": 15,
     "metadata": {},
     "output_type": "execute_result"
    }
   ],
   "source": [
    "df.select(\"driver_id\").distinct().count()"
   ]
  },
  {
   "cell_type": "markdown",
   "id": "de52f0cb-d49f-4a79-8bac-e6b3f7661399",
   "metadata": {},
   "source": [
    "## Date Setup\n",
    "\n",
    "I want to determine the number of rides taken by month. In order to do that, I need to truncate the timestamp and convert it to a date."
   ]
  },
  {
   "cell_type": "code",
   "execution_count": 16,
   "id": "fec7febb-db02-431c-b993-a88132eb90ee",
   "metadata": {},
   "outputs": [
    {
     "data": {
      "text/html": [
       "<table border='1'>\n",
       "<tr><th>vehicle_placard_number</th><th>driver_id</th><th>start_time_local</th><th>end_time_local</th><th>pickup_location_latitude</th><th>pickup_location_longitude</th><th>pickup_location</th><th>dropoff_location_latitude</th><th>dropoff_location_longitude</th><th>dropoff_location</th><th>hail_type</th><th>paratransit</th><th>sfo_pickup</th><th>qa_flags</th><th>fare_type</th><th>meter_fare_amount</th><th>upfront_pricing</th><th>promo_rate</th><th>tolls</th><th>sf_exit_fee</th><th>other_fees</th><th>tip</th><th>extra_amount</th><th>total_fare_amount</th><th>fare_time_milliseconds</th><th>trip_distance_meters</th><th>data_as_of</th><th>data_loaded_at</th><th>start_year_month</th></tr>\n",
       "<tr><td>1509</td><td>B-0039</td><td>2023-01-07 20:55:45</td><td>2023-01-07 21:18:11</td><td>37.615</td><td>-122.39</td><td>POINT (-122.39 37...</td><td>37.615</td><td>-122.39</td><td>POINT (-122.404 3...</td><td>street</td><td>0</td><td>1</td><td>NULL</td><td>meter_fare</td><td>51.6</td><td>NULL</td><td>NULL</td><td>NULL</td><td>NULL</td><td>0.0</td><td>0.0</td><td>5.5</td><td>57.1</td><td>925000</td><td>21882.4</td><td>2025-04-04 10:36:57</td><td>2025-04-07 16:16:16</td><td>2023-01-01</td></tr>\n",
       "<tr><td>0656</td><td>D-0988</td><td>2022-12-07 13:21:04</td><td>2022-12-07 13:31:13</td><td>37.786</td><td>-122.395</td><td>POINT (-122.395 3...</td><td>37.786</td><td>-122.395</td><td>POINT (-122.411 3...</td><td>dispatch</td><td>0</td><td>0</td><td>NULL</td><td>meter_fare</td><td>11.3</td><td>NULL</td><td>NULL</td><td>NULL</td><td>NULL</td><td>0.0</td><td>0.0</td><td>0.0</td><td>11.3</td><td>192000</td><td>2188.24</td><td>2025-04-04 10:37:03</td><td>2025-04-07 16:16:16</td><td>2022-12-01</td></tr>\n",
       "<tr><td>1309</td><td>D-4356</td><td>2023-10-05 20:45:50</td><td>2023-10-05 21:03:53</td><td>37.8</td><td>-122.439</td><td>POINT (-122.439 3...</td><td>37.8</td><td>-122.439</td><td>POINT (-122.436 3...</td><td>dispatch</td><td>0</td><td>0</td><td>LP-DR-IT-</td><td>meter_fare</td><td>17.15</td><td>NULL</td><td>NULL</td><td>NULL</td><td>NULL</td><td>0.0</td><td>0.0</td><td>0.0</td><td>17.15</td><td>484000</td><td>4682.19</td><td>2025-04-04 10:37:06</td><td>2025-04-07 16:16:16</td><td>2023-10-01</td></tr>\n",
       "<tr><td>1202</td><td>D-1433</td><td>2023-01-07 20:56:05</td><td>2023-01-07 21:19:20</td><td>37.615</td><td>-122.39</td><td>POINT (-122.39 37...</td><td>37.615</td><td>-122.39</td><td>POINT (-122.404 3...</td><td>street</td><td>0</td><td>1</td><td>IT-</td><td>meter_fare</td><td>52.25</td><td>NULL</td><td>NULL</td><td>NULL</td><td>5.5</td><td>NULL</td><td>0.0</td><td>NULL</td><td>57.75</td><td>1394852</td><td>22530.8</td><td>2025-04-04 10:36:57</td><td>2025-04-07 16:16:16</td><td>2023-01-01</td></tr>\n",
       "<tr><td>1212</td><td>D-3902</td><td>2022-12-07 13:21:05</td><td>2022-12-07 13:34:50</td><td>37.814</td><td>-122.251</td><td>POINT (-122.251 3...</td><td>37.814</td><td>-122.251</td><td>POINT (-122.268 3...</td><td>street</td><td>0</td><td>0</td><td>IT-</td><td>meter_fare</td><td>22.35</td><td>NULL</td><td>NULL</td><td>NULL</td><td>NULL</td><td>NULL</td><td>0.0</td><td>NULL</td><td>22.35</td><td>825041</td><td>7885.8</td><td>2025-04-04 10:37:03</td><td>2025-04-07 16:16:16</td><td>2022-12-01</td></tr>\n",
       "<tr><td>1309</td><td>D-4356</td><td>2023-10-05 20:45:50</td><td>2023-10-05 21:03:53</td><td>37.8</td><td>-122.439</td><td>POINT (-122.439 3...</td><td>37.8</td><td>-122.439</td><td>POINT (-122.436 3...</td><td>dispatch</td><td>0</td><td>0</td><td>LP-IT-</td><td>meter_fare</td><td>17.15</td><td>NULL</td><td>NULL</td><td>NULL</td><td>NULL</td><td>0.0</td><td>0.0</td><td>0.0</td><td>17.15</td><td>484000</td><td>4682.19</td><td>2025-04-04 10:37:06</td><td>2025-04-07 16:16:16</td><td>2023-10-01</td></tr>\n",
       "<tr><td>0434</td><td>A-9674</td><td>2022-12-07 13:21:06</td><td>2022-12-07 13:40:35</td><td>37.617</td><td>-122.384</td><td>POINT (-122.384 3...</td><td>37.617</td><td>-122.384</td><td>POINT (-122.425 3...</td><td>street</td><td>0</td><td>1</td><td>IT-</td><td>meter_fare</td><td>43.15</td><td>NULL</td><td>NULL</td><td>NULL</td><td>5.5</td><td>NULL</td><td>0.0</td><td>NULL</td><td>48.65</td><td>1169878</td><td>18990.3</td><td>2025-04-04 10:37:03</td><td>2025-04-07 16:16:16</td><td>2022-12-01</td></tr>\n",
       "<tr><td>0480</td><td>B-2006</td><td>2023-01-07 20:56:25</td><td>2023-01-07 21:02:04</td><td>37.776</td><td>-122.421</td><td>POINT (-122.421 3...</td><td>37.776</td><td>-122.421</td><td>POINT (-122.432 3...</td><td>dispatch</td><td>0</td><td>0</td><td>IT-</td><td>meter_fare</td><td>9.35</td><td>NULL</td><td>NULL</td><td>NULL</td><td>NULL</td><td>NULL</td><td>0.0</td><td>NULL</td><td>9.35</td><td>338325</td><td>2092.1</td><td>2025-04-04 10:36:57</td><td>2025-04-07 16:16:16</td><td>2023-01-01</td></tr>\n",
       "<tr><td>0362</td><td>D-6944</td><td>2023-10-05 20:46:24</td><td>2023-10-05 20:52:36</td><td>37.788</td><td>-122.408</td><td>POINT (-122.408 3...</td><td>37.788</td><td>-122.408</td><td>POINT (-122.414 3...</td><td>street</td><td>0</td><td>0</td><td>LP-DR-IT-</td><td>meter_fare</td><td>7.4</td><td>NULL</td><td>NULL</td><td>NULL</td><td>NULL</td><td>0.0</td><td>0.0</td><td>0.0</td><td>7.4</td><td>89000</td><td>901.04</td><td>2025-04-04 10:37:06</td><td>2025-04-07 16:16:16</td><td>2023-10-01</td></tr>\n",
       "<tr><td>0030</td><td>N-1089</td><td>2023-01-07 20:56:48</td><td>2023-01-07 21:05:49</td><td>37.787</td><td>-122.408</td><td>POINT (-122.408 3...</td><td>37.787</td><td>-122.408</td><td>POINT (-122.413 3...</td><td>street</td><td>0</td><td>0</td><td>NULL</td><td>meter_fare</td><td>8.7</td><td>NULL</td><td>NULL</td><td>NULL</td><td>NULL</td><td>NULL</td><td>0.0</td><td>NULL</td><td>8.7</td><td>540746</td><td>965.6</td><td>2025-04-04 10:36:57</td><td>2025-04-07 16:16:16</td><td>2023-01-01</td></tr>\n",
       "</table>\n"
      ],
      "text/plain": [
       "+----------------------+---------+-------------------+-------------------+------------------------+-------------------------+--------------------+-------------------------+--------------------------+--------------------+---------+-----------+----------+---------+----------+-----------------+---------------+----------+-----+-----------+----------+---+------------+-----------------+----------------------+--------------------+-------------------+-------------------+----------------+\n",
       "|vehicle_placard_number|driver_id|   start_time_local|     end_time_local|pickup_location_latitude|pickup_location_longitude|     pickup_location|dropoff_location_latitude|dropoff_location_longitude|    dropoff_location|hail_type|paratransit|sfo_pickup| qa_flags| fare_type|meter_fare_amount|upfront_pricing|promo_rate|tolls|sf_exit_fee|other_fees|tip|extra_amount|total_fare_amount|fare_time_milliseconds|trip_distance_meters|         data_as_of|     data_loaded_at|start_year_month|\n",
       "+----------------------+---------+-------------------+-------------------+------------------------+-------------------------+--------------------+-------------------------+--------------------------+--------------------+---------+-----------+----------+---------+----------+-----------------+---------------+----------+-----+-----------+----------+---+------------+-----------------+----------------------+--------------------+-------------------+-------------------+----------------+\n",
       "|                  1509|   B-0039|2023-01-07 20:55:45|2023-01-07 21:18:11|                  37.615|                  -122.39|POINT (-122.39 37...|                   37.615|                   -122.39|POINT (-122.404 3...|   street|          0|         1|     NULL|meter_fare|             51.6|           NULL|      NULL| NULL|       NULL|       0.0|0.0|         5.5|             57.1|                925000|             21882.4|2025-04-04 10:36:57|2025-04-07 16:16:16|      2023-01-01|\n",
       "|                  0656|   D-0988|2022-12-07 13:21:04|2022-12-07 13:31:13|                  37.786|                 -122.395|POINT (-122.395 3...|                   37.786|                  -122.395|POINT (-122.411 3...| dispatch|          0|         0|     NULL|meter_fare|             11.3|           NULL|      NULL| NULL|       NULL|       0.0|0.0|         0.0|             11.3|                192000|             2188.24|2025-04-04 10:37:03|2025-04-07 16:16:16|      2022-12-01|\n",
       "|                  1309|   D-4356|2023-10-05 20:45:50|2023-10-05 21:03:53|                    37.8|                 -122.439|POINT (-122.439 3...|                     37.8|                  -122.439|POINT (-122.436 3...| dispatch|          0|         0|LP-DR-IT-|meter_fare|            17.15|           NULL|      NULL| NULL|       NULL|       0.0|0.0|         0.0|            17.15|                484000|             4682.19|2025-04-04 10:37:06|2025-04-07 16:16:16|      2023-10-01|\n",
       "|                  1202|   D-1433|2023-01-07 20:56:05|2023-01-07 21:19:20|                  37.615|                  -122.39|POINT (-122.39 37...|                   37.615|                   -122.39|POINT (-122.404 3...|   street|          0|         1|      IT-|meter_fare|            52.25|           NULL|      NULL| NULL|        5.5|      NULL|0.0|        NULL|            57.75|               1394852|             22530.8|2025-04-04 10:36:57|2025-04-07 16:16:16|      2023-01-01|\n",
       "|                  1212|   D-3902|2022-12-07 13:21:05|2022-12-07 13:34:50|                  37.814|                 -122.251|POINT (-122.251 3...|                   37.814|                  -122.251|POINT (-122.268 3...|   street|          0|         0|      IT-|meter_fare|            22.35|           NULL|      NULL| NULL|       NULL|      NULL|0.0|        NULL|            22.35|                825041|              7885.8|2025-04-04 10:37:03|2025-04-07 16:16:16|      2022-12-01|\n",
       "|                  1309|   D-4356|2023-10-05 20:45:50|2023-10-05 21:03:53|                    37.8|                 -122.439|POINT (-122.439 3...|                     37.8|                  -122.439|POINT (-122.436 3...| dispatch|          0|         0|   LP-IT-|meter_fare|            17.15|           NULL|      NULL| NULL|       NULL|       0.0|0.0|         0.0|            17.15|                484000|             4682.19|2025-04-04 10:37:06|2025-04-07 16:16:16|      2023-10-01|\n",
       "|                  0434|   A-9674|2022-12-07 13:21:06|2022-12-07 13:40:35|                  37.617|                 -122.384|POINT (-122.384 3...|                   37.617|                  -122.384|POINT (-122.425 3...|   street|          0|         1|      IT-|meter_fare|            43.15|           NULL|      NULL| NULL|        5.5|      NULL|0.0|        NULL|            48.65|               1169878|             18990.3|2025-04-04 10:37:03|2025-04-07 16:16:16|      2022-12-01|\n",
       "|                  0480|   B-2006|2023-01-07 20:56:25|2023-01-07 21:02:04|                  37.776|                 -122.421|POINT (-122.421 3...|                   37.776|                  -122.421|POINT (-122.432 3...| dispatch|          0|         0|      IT-|meter_fare|             9.35|           NULL|      NULL| NULL|       NULL|      NULL|0.0|        NULL|             9.35|                338325|              2092.1|2025-04-04 10:36:57|2025-04-07 16:16:16|      2023-01-01|\n",
       "|                  0362|   D-6944|2023-10-05 20:46:24|2023-10-05 20:52:36|                  37.788|                 -122.408|POINT (-122.408 3...|                   37.788|                  -122.408|POINT (-122.414 3...|   street|          0|         0|LP-DR-IT-|meter_fare|              7.4|           NULL|      NULL| NULL|       NULL|       0.0|0.0|         0.0|              7.4|                 89000|              901.04|2025-04-04 10:37:06|2025-04-07 16:16:16|      2023-10-01|\n",
       "|                  0030|   N-1089|2023-01-07 20:56:48|2023-01-07 21:05:49|                  37.787|                 -122.408|POINT (-122.408 3...|                   37.787|                  -122.408|POINT (-122.413 3...|   street|          0|         0|     NULL|meter_fare|              8.7|           NULL|      NULL| NULL|       NULL|      NULL|0.0|        NULL|              8.7|                540746|               965.6|2025-04-04 10:36:57|2025-04-07 16:16:16|      2023-01-01|\n",
       "+----------------------+---------+-------------------+-------------------+------------------------+-------------------------+--------------------+-------------------------+--------------------------+--------------------+---------+-----------+----------+---------+----------+-----------------+---------------+----------+-----+-----------+----------+---+------------+-----------------+----------------------+--------------------+-------------------+-------------------+----------------+"
      ]
     },
     "execution_count": 16,
     "metadata": {},
     "output_type": "execute_result"
    }
   ],
   "source": [
    "\n",
    "df = df.withColumn(\"start_year_month\", F.date_trunc('month', df.start_time_local))\n",
    "df = df.withColumn(\"start_year_month\", F.to_date(df.start_year_month))\n",
    "df.limit(10)\n"
   ]
  },
  {
   "cell_type": "markdown",
   "id": "325e02a8-aaad-436d-9203-163cbbbb4132",
   "metadata": {},
   "source": [
    "## Count the Drivers Per Month\n",
    "\n",
    "Let's count the driver_ids per month ordered by month, then ordered by count."
   ]
  },
  {
   "cell_type": "code",
   "execution_count": 17,
   "id": "94ac4a87-adbd-4087-8bd2-d0bcb263b42f",
   "metadata": {},
   "outputs": [
    {
     "data": {
      "text/html": [
       "<table border='1'>\n",
       "<tr><th>start_year_month</th><th>cnt</th></tr>\n",
       "<tr><td>2022-12-01</td><td>932</td></tr>\n",
       "<tr><td>2023-01-01</td><td>916</td></tr>\n",
       "<tr><td>2023-02-01</td><td>924</td></tr>\n",
       "<tr><td>2023-03-01</td><td>948</td></tr>\n",
       "<tr><td>2023-04-01</td><td>961</td></tr>\n",
       "<tr><td>2023-05-01</td><td>965</td></tr>\n",
       "<tr><td>2023-06-01</td><td>969</td></tr>\n",
       "<tr><td>2023-07-01</td><td>970</td></tr>\n",
       "<tr><td>2023-08-01</td><td>988</td></tr>\n",
       "<tr><td>2023-09-01</td><td>972</td></tr>\n",
       "</table>\n"
      ],
      "text/plain": [
       "+----------------+---+\n",
       "|start_year_month|cnt|\n",
       "+----------------+---+\n",
       "|      2022-12-01|932|\n",
       "|      2023-01-01|916|\n",
       "|      2023-02-01|924|\n",
       "|      2023-03-01|948|\n",
       "|      2023-04-01|961|\n",
       "|      2023-05-01|965|\n",
       "|      2023-06-01|969|\n",
       "|      2023-07-01|970|\n",
       "|      2023-08-01|988|\n",
       "|      2023-09-01|972|\n",
       "+----------------+---+"
      ]
     },
     "execution_count": 17,
     "metadata": {},
     "output_type": "execute_result"
    }
   ],
   "source": [
    "\n",
    "df3 = df.groupBy(\"start_year_month\").agg(F.countDistinct(\"driver_id\").alias(\"cnt\")).orderBy(\"start_year_month\")\n",
    "df3.limit(10)\n"
   ]
  },
  {
   "cell_type": "code",
   "execution_count": 18,
   "id": "def3f7ae-bc0b-4f8c-a66b-efd6769199b7",
   "metadata": {},
   "outputs": [
    {
     "data": {
      "image/png": "[encoded data removed]",
      "text/plain": [
       "<Figure size 640x480 with 1 Axes>"
      ]
     },
     "metadata": {},
     "output_type": "display_data"
    }
   ],
   "source": [
    "df3 = df3.limit(20).toPandas()\n",
    "df3.plot(kind=\"bar\", x=\"start_year_month\", y=\"cnt\")\n",
    "plt.show()"
   ]
  },
  {
   "cell_type": "code",
   "execution_count": 19,
   "id": "a9e47445-96b6-4206-96ce-b81037c12b8d",
   "metadata": {},
   "outputs": [
    {
     "data": {
      "text/html": [
       "<table border='1'>\n",
       "<tr><th>start_year_month</th><th>cnt</th></tr>\n",
       "<tr><td>2023-08-01</td><td>988</td></tr>\n",
       "<tr><td>2024-05-01</td><td>988</td></tr>\n",
       "<tr><td>2023-09-01</td><td>972</td></tr>\n",
       "<tr><td>2023-11-01</td><td>972</td></tr>\n",
       "<tr><td>2023-07-01</td><td>970</td></tr>\n",
       "<tr><td>2023-06-01</td><td>969</td></tr>\n",
       "<tr><td>2023-05-01</td><td>965</td></tr>\n",
       "<tr><td>2023-04-01</td><td>961</td></tr>\n",
       "<tr><td>2023-12-01</td><td>959</td></tr>\n",
       "<tr><td>2024-03-01</td><td>956</td></tr>\n",
       "</table>\n"
      ],
      "text/plain": [
       "+----------------+---+\n",
       "|start_year_month|cnt|\n",
       "+----------------+---+\n",
       "|      2023-08-01|988|\n",
       "|      2024-05-01|988|\n",
       "|      2023-09-01|972|\n",
       "|      2023-11-01|972|\n",
       "|      2023-07-01|970|\n",
       "|      2023-06-01|969|\n",
       "|      2023-05-01|965|\n",
       "|      2023-04-01|961|\n",
       "|      2023-12-01|959|\n",
       "|      2024-03-01|956|\n",
       "+----------------+---+"
      ]
     },
     "execution_count": 19,
     "metadata": {},
     "output_type": "execute_result"
    }
   ],
   "source": [
    "\n",
    "df4 = df.groupBy(\"start_year_month\").agg(F.countDistinct(\"driver_id\").alias(\"cnt\")).orderBy(F.col(\"cnt\").desc())\n",
    "df4.limit(10)\n"
   ]
  },
  {
   "cell_type": "code",
   "execution_count": 20,
   "id": "81c90f43-6f06-49da-ad84-261e0955607b",
   "metadata": {},
   "outputs": [
    {
     "data": {
      "image/png": "[encoded data removed]",
      "text/plain": [
       "<Figure size 640x480 with 1 Axes>"
      ]
     },
     "metadata": {},
     "output_type": "display_data"
    }
   ],
   "source": [
    "df4 = df4.limit(20).toPandas()\n",
    "df4.plot(kind=\"bar\", x=\"start_year_month\", y=\"cnt\")\n",
    "plt.show()"
   ]
  },
  {
   "cell_type": "markdown",
   "id": "baa39ac7-cd68-4805-8fab-358ab0f808a0",
   "metadata": {},
   "source": [
    "## Count the Vehicles Per Month\n",
    "\n",
    "Now let's count the vehicle_placard_numbers per month ordered by month, then ordered by count."
   ]
  },
  {
   "cell_type": "code",
   "execution_count": 21,
   "id": "e1745650-8845-45cb-adb2-8e1a17f17f92",
   "metadata": {},
   "outputs": [
    {
     "data": {
      "text/html": [
       "<table border='1'>\n",
       "<tr><th>start_year_month</th><th>cnt</th></tr>\n",
       "<tr><td>2022-12-01</td><td>751</td></tr>\n",
       "<tr><td>2023-01-01</td><td>746</td></tr>\n",
       "<tr><td>2023-02-01</td><td>772</td></tr>\n",
       "<tr><td>2023-03-01</td><td>768</td></tr>\n",
       "<tr><td>2023-04-01</td><td>779</td></tr>\n",
       "<tr><td>2023-05-01</td><td>807</td></tr>\n",
       "<tr><td>2023-06-01</td><td>805</td></tr>\n",
       "<tr><td>2023-07-01</td><td>804</td></tr>\n",
       "<tr><td>2023-08-01</td><td>819</td></tr>\n",
       "<tr><td>2023-09-01</td><td>822</td></tr>\n",
       "</table>\n"
      ],
      "text/plain": [
       "+----------------+---+\n",
       "|start_year_month|cnt|\n",
       "+----------------+---+\n",
       "|      2022-12-01|751|\n",
       "|      2023-01-01|746|\n",
       "|      2023-02-01|772|\n",
       "|      2023-03-01|768|\n",
       "|      2023-04-01|779|\n",
       "|      2023-05-01|807|\n",
       "|      2023-06-01|805|\n",
       "|      2023-07-01|804|\n",
       "|      2023-08-01|819|\n",
       "|      2023-09-01|822|\n",
       "+----------------+---+"
      ]
     },
     "execution_count": 21,
     "metadata": {},
     "output_type": "execute_result"
    }
   ],
   "source": [
    "\n",
    "df5 = df.groupBy(\"start_year_month\").agg(F.countDistinct(\"vehicle_placard_number\").alias(\"cnt\")).orderBy(\"start_year_month\")\n",
    "df5.limit(10)\n"
   ]
  },
  {
   "cell_type": "code",
   "execution_count": 22,
   "id": "a60b42ad-8bfb-4ad1-b646-860e48ccb8d0",
   "metadata": {},
   "outputs": [
    {
     "data": {
      "image/png": "[encoded data removed]",
      "text/plain": [
       "<Figure size 640x480 with 1 Axes>"
      ]
     },
     "metadata": {},
     "output_type": "display_data"
    }
   ],
   "source": [
    "df5 = df5.limit(20).toPandas()\n",
    "df5.plot(kind=\"bar\", x=\"start_year_month\", y=\"cnt\")\n",
    "plt.show()"
   ]
  },
  {
   "cell_type": "code",
   "execution_count": 23,
   "id": "9c8b049f-d035-47fb-b2f2-8265d9f5b26d",
   "metadata": {},
   "outputs": [
    {
     "data": {
      "text/html": [
       "<table border='1'>\n",
       "<tr><th>start_year_month</th><th>cnt</th></tr>\n",
       "<tr><td>2023-09-01</td><td>822</td></tr>\n",
       "<tr><td>2023-08-01</td><td>819</td></tr>\n",
       "<tr><td>2024-03-01</td><td>816</td></tr>\n",
       "<tr><td>2024-05-01</td><td>815</td></tr>\n",
       "<tr><td>2024-01-01</td><td>813</td></tr>\n",
       "<tr><td>2023-11-01</td><td>811</td></tr>\n",
       "<tr><td>2023-05-01</td><td>807</td></tr>\n",
       "<tr><td>2024-04-01</td><td>806</td></tr>\n",
       "<tr><td>2023-06-01</td><td>805</td></tr>\n",
       "<tr><td>2023-12-01</td><td>804</td></tr>\n",
       "</table>\n"
      ],
      "text/plain": [
       "+----------------+---+\n",
       "|start_year_month|cnt|\n",
       "+----------------+---+\n",
       "|      2023-09-01|822|\n",
       "|      2023-08-01|819|\n",
       "|      2024-03-01|816|\n",
       "|      2024-05-01|815|\n",
       "|      2024-01-01|813|\n",
       "|      2023-11-01|811|\n",
       "|      2023-05-01|807|\n",
       "|      2024-04-01|806|\n",
       "|      2023-06-01|805|\n",
       "|      2023-12-01|804|\n",
       "+----------------+---+"
      ]
     },
     "execution_count": 23,
     "metadata": {},
     "output_type": "execute_result"
    }
   ],
   "source": [
    "\n",
    "df6 = df.groupBy(\"start_year_month\").agg(F.countDistinct(\"vehicle_placard_number\").alias(\"cnt\")).orderBy(F.col(\"cnt\").desc())\n",
    "df6.limit(10)\n"
   ]
  },
  {
   "cell_type": "code",
   "execution_count": 24,
   "id": "030a62ed-70bf-49e9-a51a-32d96a43bb54",
   "metadata": {},
   "outputs": [
    {
     "data": {
      "image/png": "[encoded data removed]",
      "text/plain": [
       "<Figure size 640x480 with 1 Axes>"
      ]
     },
     "metadata": {},
     "output_type": "display_data"
    }
   ],
   "source": [
    "df6 = df6.limit(20).toPandas()\n",
    "df6.plot(kind=\"bar\", x=\"start_year_month\", y=\"cnt\")\n",
    "plt.show()"
   ]
  },
  {
   "cell_type": "markdown",
   "id": "e3926255-9e01-46e9-834a-f2dacb6caf30",
   "metadata": {},
   "source": [
    "## Count the Trips by Driver by Month\n",
    "\n",
    "So far, the counts we have done have been of a single value. Next, let's count by multiple values. First, we will count by month and driver. First we'll sort by driver, then we will sort by count."
   ]
  },
  {
   "cell_type": "code",
   "execution_count": 25,
   "id": "3b6d39ac-9143-4f59-8962-8d7aa5b8392e",
   "metadata": {},
   "outputs": [
    {
     "data": {
      "text/html": [
       "<table border='1'>\n",
       "<tr><th>start_year_month</th><th>driver_id</th><th>count</th></tr>\n",
       "<tr><td>2022-12-01</td><td>-</td><td>1667</td></tr>\n",
       "<tr><td>2022-12-01</td><td>1-9999</td><td>12</td></tr>\n",
       "<tr><td>2022-12-01</td><td>6-9431</td><td>108</td></tr>\n",
       "<tr><td>2022-12-01</td><td>9-6938</td><td>263</td></tr>\n",
       "<tr><td>2022-12-01</td><td>A-0051</td><td>115</td></tr>\n",
       "<tr><td>2022-12-01</td><td>A-0067</td><td>33</td></tr>\n",
       "<tr><td>2022-12-01</td><td>A-0071</td><td>73</td></tr>\n",
       "<tr><td>2022-12-01</td><td>A-0163</td><td>356</td></tr>\n",
       "<tr><td>2022-12-01</td><td>A-0230</td><td>71</td></tr>\n",
       "<tr><td>2022-12-01</td><td>A-0244</td><td>367</td></tr>\n",
       "</table>\n"
      ],
      "text/plain": [
       "+----------------+---------+-----+\n",
       "|start_year_month|driver_id|count|\n",
       "+----------------+---------+-----+\n",
       "|      2022-12-01|        -| 1667|\n",
       "|      2022-12-01|   1-9999|   12|\n",
       "|      2022-12-01|   6-9431|  108|\n",
       "|      2022-12-01|   9-6938|  263|\n",
       "|      2022-12-01|   A-0051|  115|\n",
       "|      2022-12-01|   A-0067|   33|\n",
       "|      2022-12-01|   A-0071|   73|\n",
       "|      2022-12-01|   A-0163|  356|\n",
       "|      2022-12-01|   A-0230|   71|\n",
       "|      2022-12-01|   A-0244|  367|\n",
       "+----------------+---------+-----+"
      ]
     },
     "execution_count": 25,
     "metadata": {},
     "output_type": "execute_result"
    }
   ],
   "source": [
    "\n",
    "df.groupBy(\"start_year_month\", \"driver_id\").count().orderBy(F.col(\"start_year_month\"), F.col(\"driver_id\")).limit(10)\n"
   ]
  },
  {
   "cell_type": "code",
   "execution_count": 26,
   "id": "8ca2959e-226b-4a8e-ba4b-2927bbd5bef6",
   "metadata": {},
   "outputs": [
    {
     "data": {
      "text/html": [
       "<table border='1'>\n",
       "<tr><th>start_year_month</th><th>driver_id</th><th>count</th></tr>\n",
       "<tr><td>2023-01-01</td><td>-</td><td>28044</td></tr>\n",
       "<tr><td>2023-02-01</td><td>-</td><td>14765</td></tr>\n",
       "<tr><td>2024-02-01</td><td>-</td><td>6801</td></tr>\n",
       "<tr><td>2024-02-01</td><td>D-4689</td><td>1885</td></tr>\n",
       "<tr><td>2022-12-01</td><td>-</td><td>1667</td></tr>\n",
       "<tr><td>2024-05-01</td><td>C-4064</td><td>1595</td></tr>\n",
       "<tr><td>2024-05-01</td><td>B-5873</td><td>1593</td></tr>\n",
       "<tr><td>2024-04-01</td><td>C-4064</td><td>1538</td></tr>\n",
       "<tr><td>2024-03-01</td><td>C-4064</td><td>1536</td></tr>\n",
       "<tr><td>2023-03-01</td><td>-</td><td>1467</td></tr>\n",
       "</table>\n"
      ],
      "text/plain": [
       "+----------------+---------+-----+\n",
       "|start_year_month|driver_id|count|\n",
       "+----------------+---------+-----+\n",
       "|      2023-01-01|        -|28044|\n",
       "|      2023-02-01|        -|14765|\n",
       "|      2024-02-01|        -| 6801|\n",
       "|      2024-02-01|   D-4689| 1885|\n",
       "|      2022-12-01|        -| 1667|\n",
       "|      2024-05-01|   C-4064| 1595|\n",
       "|      2024-05-01|   B-5873| 1593|\n",
       "|      2024-04-01|   C-4064| 1538|\n",
       "|      2024-03-01|   C-4064| 1536|\n",
       "|      2023-03-01|        -| 1467|\n",
       "+----------------+---------+-----+"
      ]
     },
     "execution_count": 26,
     "metadata": {},
     "output_type": "execute_result"
    }
   ],
   "source": [
    "# df.groupBy(\"start_year_month\", \"driver_id\").agg(F.count(\"driver_id\").alias(\"cnt\")).orderBy(F.col(\"cnt\").desc()).limit(10)\n",
    "df.groupBy(\"start_year_month\", \"driver_id\").count().orderBy(F.col(\"count\").desc()).limit(10)"
   ]
  },
  {
   "cell_type": "markdown",
   "id": "6183c237-8707-4086-8bd7-a3ef269a104f",
   "metadata": {},
   "source": [
    "## End of Apache Spark: Initial Analysis\n",
    "\n",
    "This is the end of the first notebook. In notebook two, we'll repeat the analysis using SparkSQL."
   ]
  },
  {
   "cell_type": "code",
   "execution_count": null,
   "id": "c25d977c-8ac2-43ee-8922-91ce84829d18",
   "metadata": {},
   "outputs": [],
   "source": []
  }
 ],
 "metadata": {
  "kernelspec": {
   "display_name": "Python 3 (ipykernel)",
   "language": "python",
   "name": "python3"
  },
  "language_info": {
   "codemirror_mode": {
    "name": "ipython",
    "version": 3
   },
   "file_extension": ".py",
   "mimetype": "text/x-python",
   "name": "python",
   "nbconvert_exporter": "python",
   "pygments_lexer": "ipython3",
   "version": "3.11.6"
  }
 },
 "nbformat": 4,
 "nbformat_minor": 5
}
